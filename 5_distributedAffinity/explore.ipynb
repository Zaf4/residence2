{
 "cells": [
  {
   "cell_type": "code",
   "execution_count": 319,
   "metadata": {},
   "outputs": [
    {
     "data": {
      "text/html": [
       "\n",
       "            <div id=\"9dpx32\"></div>\n",
       "            <script type=\"text/javascript\" data-lets-plot-script=\"library\">\n",
       "                if(!window.letsPlotCallQueue) {\n",
       "                    window.letsPlotCallQueue = [];\n",
       "                }; \n",
       "                window.letsPlotCall = function(f) {\n",
       "                    window.letsPlotCallQueue.push(f);\n",
       "                };\n",
       "                (function() {\n",
       "                    var script = document.createElement(\"script\");\n",
       "                    script.type = \"text/javascript\";\n",
       "                    script.src = \"https://cdn.jsdelivr.net/gh/JetBrains/lets-plot@v4.4.0/js-package/distr/lets-plot.min.js\";\n",
       "                    script.onload = function() {\n",
       "                        window.letsPlotCall = function(f) {f();};\n",
       "                        window.letsPlotCallQueue.forEach(function(f) {f();});\n",
       "                        window.letsPlotCallQueue = [];\n",
       "                        \n",
       "                    };\n",
       "                    script.onerror = function(event) {\n",
       "                        window.letsPlotCall = function(f) {};    // noop\n",
       "                        window.letsPlotCallQueue = [];\n",
       "                        var div = document.createElement(\"div\");\n",
       "                        div.style.color = 'darkred';\n",
       "                        div.textContent = 'Error loading Lets-Plot JS';\n",
       "                        document.getElementById(\"9dpx32\").appendChild(div);\n",
       "                    };\n",
       "                    var e = document.getElementById(\"9dpx32\");\n",
       "                    e.appendChild(script);\n",
       "                })()\n",
       "            </script>\n",
       "            "
      ]
     },
     "metadata": {},
     "output_type": "display_data"
    }
   ],
   "source": [
    "import os\n",
    "import warnings\n",
    "\n",
    "import polars as pl\n",
    "import numpy as np\n",
    "import pandas as pd\n",
    "from scipy.optimize import curve_fit\n",
    "from lets_plot import *\n",
    "LetsPlot.setup_html()"
   ]
  },
  {
   "cell_type": "code",
   "execution_count": 320,
   "metadata": {},
   "outputs": [],
   "source": [
    "def double_exp(x, a, b, c, d):\n",
    "    return a * np.exp(-x * b) + (d) * np.exp(-x * c)\n",
    "\n",
    "\n",
    "def powerlaw(x, a, b):\n",
    "    return a * x ** (-b)\n",
    "\n",
    "\n",
    "def exp_decay(x, a, b):\n",
    "    return a * np.exp(-x * b)\n",
    "\n",
    "\n",
    "def tri_exp(x, a, b, c, d, e, f):\n",
    "    return a * np.exp(-x * b) + c * np.exp(-x * d) + e * np.exp(-x * f)\n",
    "\n",
    "\n",
    "def quad_exp(x, a, b, c, d, e, f, g, h):\n",
    "    return (\n",
    "        a * np.exp(-x * b)\n",
    "        + c * np.exp(-x * d)\n",
    "        + e * np.exp(-x * f)\n",
    "        + g * np.exp(-x * h)\n",
    "    )\n",
    "\n",
    "\n",
    "def penta_exp(x, a, b, c, d, e, f, g, h, i, j):\n",
    "    return (\n",
    "        a * np.exp(-x * b)\n",
    "        + c * np.exp(-x * d)\n",
    "        + e * np.exp(-x * f)\n",
    "        + g * np.exp(-x * h)\n",
    "        + i * np.exp(-x * j)\n",
    "    )\n",
    "\n",
    "def deleteNaN(y: np.ndarray,t: np.ndarray) -> tuple[np.ndarray, np.ndarray]:\n",
    "    \"\"\"\n",
    "    delete NaN parts of the input array and time array opened for it,\n",
    "    and returns time array and values array.\n",
    "\n",
    "    \"\"\"\n",
    "\n",
    "    t = t[~np.isnan(y)]\n",
    "    y = y[~np.isnan(y)]\n",
    "\n",
    "    return t, y\n",
    "\n",
    "def value_fit(\n",
    "    val: np.ndarray, t: np.ndarray, tmax: int, \n",
    "    eq: callable, sigma_w: bool = False,\n",
    "    delete_nan: bool = True\n",
    ") -> tuple[np.ndarray, np.ndarray, tuple]:\n",
    "    \"\"\"\n",
    "\n",
    "    Parameters\n",
    "    ----------\n",
    "    val : np.ndarray\n",
    "        Values 1d array to fit.\n",
    "    eq : callable\n",
    "        Equation to create a fit.\n",
    "\n",
    "    Returns\n",
    "    -------\n",
    "    y_fit : np.ndarray\n",
    "        1d Fitted values array.\n",
    "    ss_res_norm : np.ndarray\n",
    "        Sum of squares of residuals normalized.\n",
    "    popt : tuple\n",
    "\n",
    "    \"\"\"\n",
    "    t_range = np.arange(tmax) + 1\n",
    "\n",
    "    if delete_nan:\n",
    "        t, val = deleteNaN(val,t)\n",
    "\n",
    "    if sigma_w:\n",
    "        sigma = t.astype(float)**-10\n",
    "        popt, _ = curve_fit(eq, t, val, maxfev=20000000, sigma=sigma)\n",
    "\n",
    "    else:\n",
    "        popt, _ = curve_fit(eq, t, val, maxfev=20000000)\n",
    "\n",
    "\n",
    "    y_fit = eq(t_range, *popt)  # full time length\n",
    "    y_fit[y_fit < 1] = np.nan  # too small values to be removed\n",
    "    y_fit[y_fit > np.max(val) * 2] = np.nan  # too big values removed\n",
    "\n",
    "    return y_fit\n",
    "\n"
   ]
  },
  {
   "cell_type": "code",
   "execution_count": 321,
   "metadata": {},
   "outputs": [],
   "source": [
    "\n",
    "def arr_minimize(arr: np.ndarray, method: str = \"median\") -> np.ndarray:\n",
    "    \"\"\"\n",
    "    Minimizes 1d array by removing repeats, according to the given method.\n",
    "\n",
    "    Parameters\n",
    "    ----------\n",
    "    arr : np.ndarray\n",
    "        1d array to be minimized.\n",
    "    method : str, optional\n",
    "        'median' or 'average'. The default is 'median'.\n",
    "\n",
    "    Returns\n",
    "    -------\n",
    "    arr1 : np.ndarray\n",
    "        minimized array.\n",
    "\n",
    "    \"\"\"\n",
    "\n",
    "    search = np.unique(arr)  # arr of unique elements\n",
    "    search = search[search > 0]  # remove nans\n",
    "\n",
    "    arr1 = arr.copy()\n",
    "\n",
    "    for s in search:\n",
    "        (positions,) = np.where(arr == s)\n",
    "        if method == \"median\":\n",
    "            mid = int(np.median(positions))\n",
    "\n",
    "        elif method == \"average\":\n",
    "            mid = int(np.average(positions))\n",
    "        elif method == \"max\":\n",
    "            mid = int(np.max(positions))\n",
    "        elif method == \"min\":\n",
    "            mid = int(np.min(positions))\n",
    "\n",
    "        arr1[positions] = np.nan\n",
    "        arr1[mid] = s  # mid value is kept\n",
    "\n",
    "    return arr1\n",
    "\n",
    "\n",
    "def df_minimize(df: pd.DataFrame, **kwargs) -> pd.DataFrame:\n",
    "    \"\"\"\n",
    "\n",
    "    Parameters\n",
    "    ----------\n",
    "    df : pd.DataFrame\n",
    "        DataFrame to be minimized.\n",
    "\n",
    "    Returns\n",
    "    -------\n",
    "    df : pd.DataFrame\n",
    "        Minimized DataFrame.\n",
    "\n",
    "    \"\"\"\n",
    "    for i in range(len(df.columns)):\n",
    "        df.iloc[:, i] = arr_minimize(\n",
    "            df.iloc[:, i], **kwargs\n",
    "        )  # values minimized and returned\n",
    "\n",
    "    return df"
   ]
  },
  {
   "cell_type": "code",
   "execution_count": 322,
   "metadata": {},
   "outputs": [],
   "source": [
    "# values dataframe\n",
    "df = pd.read_csv(\"./data/duration_cont.csv\", index_col=None)\n",
    "df = df_minimize(df, method=\"median\")\n",
    "df[df == 0] = np.nan\n",
    "df = df.dropna(axis=0, how=\"all\")\n",
    "df[\"timestep\"] = df.index + 1\n",
    "df = pl.from_pandas(df)"
   ]
  },
  {
   "cell_type": "code",
   "execution_count": 323,
   "metadata": {},
   "outputs": [
    {
     "data": {
      "text/html": [
       "<div><style>\n",
       ".dataframe > thead > tr,\n",
       ".dataframe > tbody > tr {\n",
       "  text-align: right;\n",
       "  white-space: pre-wrap;\n",
       "}\n",
       "</style>\n",
       "<small>shape: (5, 6)</small><table border=\"1\" class=\"dataframe\"><thead><tr><th>uniform_250</th><th>uniform_350</th><th>gaus_250</th><th>gaus_350</th><th>3.50_60</th><th>timestep</th></tr><tr><td>f64</td><td>f64</td><td>f64</td><td>f64</td><td>f64</td><td>i64</td></tr></thead><tbody><tr><td>null</td><td>2.0</td><td>null</td><td>null</td><td>null</td><td>1499</td></tr><tr><td>null</td><td>null</td><td>null</td><td>2.0</td><td>null</td><td>1605</td></tr><tr><td>null</td><td>null</td><td>null</td><td>null</td><td>1.0</td><td>1772</td></tr><tr><td>null</td><td>1.0</td><td>null</td><td>null</td><td>null</td><td>2038</td></tr><tr><td>null</td><td>null</td><td>null</td><td>1.0</td><td>null</td><td>2080</td></tr></tbody></table></div>"
      ],
      "text/plain": [
       "shape: (5, 6)\n",
       "┌─────────────┬─────────────┬──────────┬──────────┬─────────┬──────────┐\n",
       "│ uniform_250 ┆ uniform_350 ┆ gaus_250 ┆ gaus_350 ┆ 3.50_60 ┆ timestep │\n",
       "│ ---         ┆ ---         ┆ ---      ┆ ---      ┆ ---     ┆ ---      │\n",
       "│ f64         ┆ f64         ┆ f64      ┆ f64      ┆ f64     ┆ i64      │\n",
       "╞═════════════╪═════════════╪══════════╪══════════╪═════════╪══════════╡\n",
       "│ null        ┆ 2.0         ┆ null     ┆ null     ┆ null    ┆ 1499     │\n",
       "│ null        ┆ null        ┆ null     ┆ 2.0      ┆ null    ┆ 1605     │\n",
       "│ null        ┆ null        ┆ null     ┆ null     ┆ 1.0     ┆ 1772     │\n",
       "│ null        ┆ 1.0         ┆ null     ┆ null     ┆ null    ┆ 2038     │\n",
       "│ null        ┆ null        ┆ null     ┆ 1.0      ┆ null    ┆ 2080     │\n",
       "└─────────────┴─────────────┴──────────┴──────────┴─────────┴──────────┘"
      ]
     },
     "execution_count": 323,
     "metadata": {},
     "output_type": "execute_result"
    }
   ],
   "source": [
    "df.tail()"
   ]
  },
  {
   "cell_type": "code",
   "execution_count": 324,
   "metadata": {},
   "outputs": [],
   "source": [
    "def sample_ends_favored_1D(df: pd.DataFrame, n: int = 10) -> pd.DataFrame:\n",
    "    \"\"\"sample a dataframe but favor the ends\n",
    "\n",
    "    Parameters\n",
    "    ----------\n",
    "    df : pd.DataFrame\n",
    "\n",
    "    n : int, optional\n",
    "        end size, by default 10\n",
    "\n",
    "    Returns\n",
    "    -------\n",
    "    pd.DataFrame\n",
    "        sampled dataframe\n",
    "    \"\"\"\n",
    "\n",
    "\n",
    "    mid_df = df.iloc[n:-n]\n",
    "    sampled_df = pd.concat(\n",
    "        [df.head(n), mid_df.sample(frac=0.20, random_state=42), df.tail(n)],\n",
    "        ignore_index=True\n",
    "    )\n",
    "    return sampled_df"
   ]
  },
  {
   "cell_type": "code",
   "execution_count": 325,
   "metadata": {},
   "outputs": [],
   "source": [
    "def sample_EF_1D(df: pl.DataFrame, n: int = 10) -> pd.DataFrame:\n",
    "    \"\"\"sample a dataframe but favor the ends\n",
    "\n",
    "    Parameters\n",
    "    ----------\n",
    "    df : pd.DataFrame\n",
    "\n",
    "    n : int, optional\n",
    "        end size, by default 10\n",
    "\n",
    "    Returns\n",
    "    -------\n",
    "    pd.DataFrame\n",
    "        sampled dataframe\n",
    "    \"\"\"\n",
    "\n",
    "    \n",
    "\n",
    "    mid_df = df.slice(n, len(df) - 2 * n)\n",
    "    sampled_df = pl.concat(\n",
    "        [df.head(n), mid_df.sample(fraction=0.20, seed=42), df.tail(n)],\n",
    "        how=\"vertical\",\n",
    "    ).unpivot(index=\"timestep\", \n",
    "              value_name=\"remaining\", \n",
    "              variable_name=\"case\")\n",
    "    \n",
    "    return sampled_df"
   ]
  },
  {
   "cell_type": "code",
   "execution_count": 326,
   "metadata": {},
   "outputs": [],
   "source": [
    "def sample_EF_2D(df: pl.DataFrame, n: int = 10) -> pd.DataFrame:\n",
    "\n",
    "    all_parts = [\n",
    "        sample_EF_1D(df.select([col, \"timestep\"]), n=n).with_columns(\n",
    "            pl.lit(col).alias(\"case\")\n",
    "        )\n",
    "        for col in df.columns if col != \"timestep\"\n",
    "    ]\n",
    "    collected = pl.concat(all_parts, how=\"vertical\")\n",
    "\n",
    "    return collected.drop_nulls()"
   ]
  },
  {
   "cell_type": "code",
   "execution_count": 327,
   "metadata": {},
   "outputs": [],
   "source": [
    "def add_type_um(df: pl.DataFrame) -> pl.DataFrame:\n",
    "\n",
    "    return df.with_columns(\n",
    "        pl.col(\"case\").str.split(\"_\").list.get(0).alias(\"type\"),\n",
    "        pl.col(\"case\").str.split(\"_\").list.get(1).alias(\"um\"),\n",
    "    )\n"
   ]
  },
  {
   "cell_type": "code",
   "execution_count": 328,
   "metadata": {},
   "outputs": [
    {
     "data": {
      "text/html": [
       "<div><style>\n",
       ".dataframe > thead > tr,\n",
       ".dataframe > tbody > tr {\n",
       "  text-align: right;\n",
       "  white-space: pre-wrap;\n",
       "}\n",
       "</style>\n",
       "<small>shape: (385, 3)</small><table border=\"1\" class=\"dataframe\"><thead><tr><th>timestep</th><th>case</th><th>remaining</th></tr><tr><td>i64</td><td>str</td><td>f64</td></tr></thead><tbody><tr><td>1</td><td>&quot;uniform_250&quot;</td><td>1.192739e6</td></tr><tr><td>2</td><td>&quot;uniform_250&quot;</td><td>779689.0</td></tr><tr><td>3</td><td>&quot;uniform_250&quot;</td><td>541090.0</td></tr><tr><td>4</td><td>&quot;uniform_250&quot;</td><td>389455.0</td></tr><tr><td>5</td><td>&quot;uniform_250&quot;</td><td>288740.0</td></tr><tr><td>&hellip;</td><td>&hellip;</td><td>&hellip;</td></tr><tr><td>996</td><td>&quot;3.50_60&quot;</td><td>6.0</td></tr><tr><td>1061</td><td>&quot;3.50_60&quot;</td><td>5.0</td></tr><tr><td>1124</td><td>&quot;3.50_60&quot;</td><td>4.0</td></tr><tr><td>1379</td><td>&quot;3.50_60&quot;</td><td>2.0</td></tr><tr><td>1772</td><td>&quot;3.50_60&quot;</td><td>1.0</td></tr></tbody></table></div>"
      ],
      "text/plain": [
       "shape: (385, 3)\n",
       "┌──────────┬─────────────┬────────────┐\n",
       "│ timestep ┆ case        ┆ remaining  │\n",
       "│ ---      ┆ ---         ┆ ---        │\n",
       "│ i64      ┆ str         ┆ f64        │\n",
       "╞══════════╪═════════════╪════════════╡\n",
       "│ 1        ┆ uniform_250 ┆ 1.192739e6 │\n",
       "│ 2        ┆ uniform_250 ┆ 779689.0   │\n",
       "│ 3        ┆ uniform_250 ┆ 541090.0   │\n",
       "│ 4        ┆ uniform_250 ┆ 389455.0   │\n",
       "│ 5        ┆ uniform_250 ┆ 288740.0   │\n",
       "│ …        ┆ …           ┆ …          │\n",
       "│ 996      ┆ 3.50_60     ┆ 6.0        │\n",
       "│ 1061     ┆ 3.50_60     ┆ 5.0        │\n",
       "│ 1124     ┆ 3.50_60     ┆ 4.0        │\n",
       "│ 1379     ┆ 3.50_60     ┆ 2.0        │\n",
       "│ 1772     ┆ 3.50_60     ┆ 1.0        │\n",
       "└──────────┴─────────────┴────────────┘"
      ]
     },
     "execution_count": 328,
     "metadata": {},
     "output_type": "execute_result"
    }
   ],
   "source": [
    "df = sample_EF_2D(df, n=40)\n",
    "df"
   ]
  },
  {
   "cell_type": "code",
   "execution_count": 329,
   "metadata": {},
   "outputs": [],
   "source": [
    "df = df.with_columns(\n",
    "    pl.col(\"case\").str.split(\"_\").list.get(0).alias(\"distribution\"),\n",
    "    pl.col(\"case\").str.split(\"_\").list.get(1).alias(\"around\"),\n",
    ")"
   ]
  },
  {
   "cell_type": "code",
   "execution_count": 330,
   "metadata": {},
   "outputs": [
    {
     "data": {
      "text/html": [
       "<div><style>\n",
       ".dataframe > thead > tr,\n",
       ".dataframe > tbody > tr {\n",
       "  text-align: right;\n",
       "  white-space: pre-wrap;\n",
       "}\n",
       "</style>\n",
       "<small>shape: (5, 5)</small><table border=\"1\" class=\"dataframe\"><thead><tr><th>timestep</th><th>case</th><th>remaining</th><th>distribution</th><th>around</th></tr><tr><td>i64</td><td>str</td><td>f64</td><td>str</td><td>str</td></tr></thead><tbody><tr><td>962</td><td>&quot;uniform_350&quot;</td><td>6.0</td><td>&quot;uniform&quot;</td><td>&quot;uniform&quot;</td></tr><tr><td>1026</td><td>&quot;uniform_350&quot;</td><td>5.0</td><td>&quot;uniform&quot;</td><td>&quot;uniform&quot;</td></tr><tr><td>1153</td><td>&quot;uniform_350&quot;</td><td>4.0</td><td>&quot;uniform&quot;</td><td>&quot;uniform&quot;</td></tr><tr><td>1499</td><td>&quot;uniform_350&quot;</td><td>2.0</td><td>&quot;uniform&quot;</td><td>&quot;uniform&quot;</td></tr><tr><td>2038</td><td>&quot;uniform_350&quot;</td><td>1.0</td><td>&quot;uniform&quot;</td><td>&quot;uniform&quot;</td></tr></tbody></table></div>"
      ],
      "text/plain": [
       "shape: (5, 5)\n",
       "┌──────────┬─────────────┬───────────┬──────────────┬─────────┐\n",
       "│ timestep ┆ case        ┆ remaining ┆ distribution ┆ around  │\n",
       "│ ---      ┆ ---         ┆ ---       ┆ ---          ┆ ---     │\n",
       "│ i64      ┆ str         ┆ f64       ┆ str          ┆ str     │\n",
       "╞══════════╪═════════════╪═══════════╪══════════════╪═════════╡\n",
       "│ 962      ┆ uniform_350 ┆ 6.0       ┆ uniform      ┆ uniform │\n",
       "│ 1026     ┆ uniform_350 ┆ 5.0       ┆ uniform      ┆ uniform │\n",
       "│ 1153     ┆ uniform_350 ┆ 4.0       ┆ uniform      ┆ uniform │\n",
       "│ 1499     ┆ uniform_350 ┆ 2.0       ┆ uniform      ┆ uniform │\n",
       "│ 2038     ┆ uniform_350 ┆ 1.0       ┆ uniform      ┆ uniform │\n",
       "└──────────┴─────────────┴───────────┴──────────────┴─────────┘"
      ]
     },
     "execution_count": 330,
     "metadata": {},
     "output_type": "execute_result"
    }
   ],
   "source": [
    "df.filter(pl.col(\"case\") == \"uniform_350\").sort(\"timestep\").tail()"
   ]
  },
  {
   "cell_type": "code",
   "execution_count": 331,
   "metadata": {},
   "outputs": [
    {
     "data": {
      "text/html": [
       "<div><style>\n",
       ".dataframe > thead > tr,\n",
       ".dataframe > tbody > tr {\n",
       "  text-align: right;\n",
       "  white-space: pre-wrap;\n",
       "}\n",
       "</style>\n",
       "<small>shape: (5, 5)</small><table border=\"1\" class=\"dataframe\"><thead><tr><th>timestep</th><th>case</th><th>remaining</th><th>distribution</th><th>around</th></tr><tr><td>i64</td><td>str</td><td>f64</td><td>str</td><td>str</td></tr></thead><tbody><tr><td>1168</td><td>&quot;gaus_350&quot;</td><td>5.0</td><td>&quot;gaus&quot;</td><td>&quot;gaus&quot;</td></tr><tr><td>1289</td><td>&quot;gaus_350&quot;</td><td>4.0</td><td>&quot;gaus&quot;</td><td>&quot;gaus&quot;</td></tr><tr><td>1388</td><td>&quot;gaus_350&quot;</td><td>3.0</td><td>&quot;gaus&quot;</td><td>&quot;gaus&quot;</td></tr><tr><td>1605</td><td>&quot;gaus_350&quot;</td><td>2.0</td><td>&quot;gaus&quot;</td><td>&quot;gaus&quot;</td></tr><tr><td>2080</td><td>&quot;gaus_350&quot;</td><td>1.0</td><td>&quot;gaus&quot;</td><td>&quot;gaus&quot;</td></tr></tbody></table></div>"
      ],
      "text/plain": [
       "shape: (5, 5)\n",
       "┌──────────┬──────────┬───────────┬──────────────┬────────┐\n",
       "│ timestep ┆ case     ┆ remaining ┆ distribution ┆ around │\n",
       "│ ---      ┆ ---      ┆ ---       ┆ ---          ┆ ---    │\n",
       "│ i64      ┆ str      ┆ f64       ┆ str          ┆ str    │\n",
       "╞══════════╪══════════╪═══════════╪══════════════╪════════╡\n",
       "│ 1168     ┆ gaus_350 ┆ 5.0       ┆ gaus         ┆ gaus   │\n",
       "│ 1289     ┆ gaus_350 ┆ 4.0       ┆ gaus         ┆ gaus   │\n",
       "│ 1388     ┆ gaus_350 ┆ 3.0       ┆ gaus         ┆ gaus   │\n",
       "│ 1605     ┆ gaus_350 ┆ 2.0       ┆ gaus         ┆ gaus   │\n",
       "│ 2080     ┆ gaus_350 ┆ 1.0       ┆ gaus         ┆ gaus   │\n",
       "└──────────┴──────────┴───────────┴──────────────┴────────┘"
      ]
     },
     "execution_count": 331,
     "metadata": {},
     "output_type": "execute_result"
    }
   ],
   "source": [
    "df.filter(pl.col(\"case\") == \"gaus_350\").sort(\"timestep\").tail()"
   ]
  },
  {
   "cell_type": "code",
   "execution_count": 332,
   "metadata": {},
   "outputs": [
    {
     "data": {
      "text/plain": [
       "['gaus_250', 'gaus_350', 'uniform_350', '3.50_60', 'uniform_250']"
      ]
     },
     "execution_count": 332,
     "metadata": {},
     "output_type": "execute_result"
    }
   ],
   "source": [
    "cases = df.select(\"case\").unique().to_series().to_list()\n",
    "cases"
   ]
  },
  {
   "cell_type": "code",
   "execution_count": 333,
   "metadata": {},
   "outputs": [
    {
     "data": {
      "text/plain": [
       "2080"
      ]
     },
     "execution_count": 333,
     "metadata": {},
     "output_type": "execute_result"
    }
   ],
   "source": [
    "df.select(\"timestep\").to_series().max()"
   ]
  },
  {
   "cell_type": "code",
   "execution_count": 334,
   "metadata": {},
   "outputs": [
    {
     "name": "stderr",
     "output_type": "stream",
     "text": [
      "C:\\Users\\zafi_\\AppData\\Local\\Temp\\ipykernel_12676\\1100314254.py:14: RuntimeWarning: overflow encountered in exp\n",
      "  return a * np.exp(-x * b) + c * np.exp(-x * d) + e * np.exp(-x * f)\n",
      "C:\\Users\\zafi_\\AppData\\Local\\Temp\\ipykernel_12676\\1100314254.py:6: RuntimeWarning: overflow encountered in power\n",
      "  return a * x ** (-b)\n",
      "C:\\Users\\zafi_\\AppData\\Local\\Temp\\ipykernel_12676\\1100314254.py:6: RuntimeWarning: overflow encountered in multiply\n",
      "  return a * x ** (-b)\n"
     ]
    }
   ],
   "source": [
    "# make fit\n",
    "tmax = df.select(\"timestep\").to_series().max()\n",
    "fits_arr = list()\n",
    "fits = pl.DataFrame().with_columns(\n",
    "    pl.int_range(1, tmax + 1).alias(\"timestep\"),\n",
    ")\n",
    "cases = df.select(\"case\").unique().to_series().to_list()\n",
    "for c in cases:\n",
    "    if not c == \"3.50_60\":\n",
    "        case_df = df.filter(pl.col(\"case\") == c)\n",
    "        timestep = case_df.select(\"timestep\").to_numpy()\n",
    "        data = case_df.select(\"remaining\").to_numpy()\n",
    "    \n",
    "        fits = fits.with_columns(\n",
    "            pl.Series(value_fit(data, timestep, tmax=tmax, eq=tri_exp)).alias(f\"{c}_tri.exp\"),\n",
    "            pl.Series(value_fit(data, timestep, tmax=tmax, eq=powerlaw)).alias(f\"{c}_powerlaw\"),\n",
    "            pl.Series(value_fit(data, timestep, tmax=tmax, eq=powerlaw,sigma_w=True)).alias(f\"{c}_powerlaw.weighted\"),\n",
    "        )"
   ]
  },
  {
   "cell_type": "code",
   "execution_count": 335,
   "metadata": {},
   "outputs": [
    {
     "data": {
      "text/html": [
       "<div><style>\n",
       ".dataframe > thead > tr,\n",
       ".dataframe > tbody > tr {\n",
       "  text-align: right;\n",
       "  white-space: pre-wrap;\n",
       "}\n",
       "</style>\n",
       "<small>shape: (2_080, 13)</small><table border=\"1\" class=\"dataframe\"><thead><tr><th>timestep</th><th>gaus_350_tri.exp</th><th>gaus_350_powerlaw</th><th>gaus_350_powerlaw.weighted</th><th>uniform_350_tri.exp</th><th>uniform_350_powerlaw</th><th>uniform_350_powerlaw.weighted</th><th>gaus_250_tri.exp</th><th>gaus_250_powerlaw</th><th>gaus_250_powerlaw.weighted</th><th>uniform_250_tri.exp</th><th>uniform_250_powerlaw</th><th>uniform_250_powerlaw.weighted</th></tr><tr><td>i64</td><td>f64</td><td>f64</td><td>f64</td><td>f64</td><td>f64</td><td>f64</td><td>f64</td><td>f64</td><td>f64</td><td>f64</td><td>f64</td><td>f64</td></tr></thead><tbody><tr><td>1</td><td>25514.630246</td><td>31916.090969</td><td>NaN</td><td>11832.233498</td><td>15731.226798</td><td>NaN</td><td>2.6448e6</td><td>2.7771e6</td><td>NaN</td><td>1.1926e6</td><td>1.2926e6</td><td>NaN</td></tr><tr><td>2</td><td>22247.21202</td><td>21017.945144</td><td>NaN</td><td>10714.146251</td><td>11100.63719</td><td>NaN</td><td>1.4870e6</td><td>1.1333e6</td><td>NaN</td><td>780436.707191</td><td>625054.349329</td><td>NaN</td></tr><tr><td>3</td><td>19574.471789</td><td>16461.396847</td><td>NaN</td><td>9779.927878</td><td>9052.65556</td><td>NaN</td><td>871834.760306</td><td>670934.010626</td><td>NaN</td><td>539969.50762</td><td>408638.546806</td><td>NaN</td></tr><tr><td>4</td><td>17371.847913</td><td>13841.106623</td><td>NaN</td><td>8993.945529</td><td>7833.091952</td><td>NaN</td><td>524096.472221</td><td>462527.591245</td><td>NaN</td><td>389330.151503</td><td>302258.718352</td><td>NaN</td></tr><tr><td>5</td><td>15542.309972</td><td>12099.482604</td><td>NaN</td><td>8327.776569</td><td>7001.459549</td><td>NaN</td><td>320514.583742</td><td>346605.786576</td><td>NaN</td><td>289323.808374</td><td>239220.274884</td><td>NaN</td></tr><tr><td>&hellip;</td><td>&hellip;</td><td>&hellip;</td><td>&hellip;</td><td>&hellip;</td><td>&hellip;</td><td>&hellip;</td><td>&hellip;</td><td>&hellip;</td><td>&hellip;</td><td>&hellip;</td><td>&hellip;</td><td>&hellip;</td></tr><tr><td>2076</td><td>NaN</td><td>319.772944</td><td>1.005129</td><td>NaN</td><td>337.46967</td><td>NaN</td><td>NaN</td><td>142.726628</td><td>NaN</td><td>NaN</td><td>430.870434</td><td>NaN</td></tr><tr><td>2077</td><td>NaN</td><td>319.68015</td><td>1.003818</td><td>NaN</td><td>337.387935</td><td>NaN</td><td>NaN</td><td>142.637784</td><td>NaN</td><td>NaN</td><td>430.652989</td><td>NaN</td></tr><tr><td>2078</td><td>NaN</td><td>319.587427</td><td>1.002509</td><td>NaN</td><td>337.306259</td><td>NaN</td><td>NaN</td><td>142.549039</td><td>NaN</td><td>NaN</td><td>430.435759</td><td>NaN</td></tr><tr><td>2079</td><td>NaN</td><td>319.494776</td><td>1.001203</td><td>NaN</td><td>337.224642</td><td>NaN</td><td>NaN</td><td>142.460391</td><td>NaN</td><td>NaN</td><td>430.218743</td><td>NaN</td></tr><tr><td>2080</td><td>NaN</td><td>319.402196</td><td>NaN</td><td>NaN</td><td>337.143084</td><td>NaN</td><td>NaN</td><td>142.371841</td><td>NaN</td><td>NaN</td><td>430.001941</td><td>NaN</td></tr></tbody></table></div>"
      ],
      "text/plain": [
       "shape: (2_080, 13)\n",
       "┌──────────┬───────────┬───────────┬───────────┬───┬───────────┬───────────┬───────────┬───────────┐\n",
       "│ timestep ┆ gaus_350_ ┆ gaus_350_ ┆ gaus_350_ ┆ … ┆ gaus_250_ ┆ uniform_2 ┆ uniform_2 ┆ uniform_2 │\n",
       "│ ---      ┆ tri.exp   ┆ powerlaw  ┆ powerlaw. ┆   ┆ powerlaw. ┆ 50_tri.ex ┆ 50_powerl ┆ 50_powerl │\n",
       "│ i64      ┆ ---       ┆ ---       ┆ weighted  ┆   ┆ weighted  ┆ p         ┆ aw        ┆ aw.weight │\n",
       "│          ┆ f64       ┆ f64       ┆ ---       ┆   ┆ ---       ┆ ---       ┆ ---       ┆ ed        │\n",
       "│          ┆           ┆           ┆ f64       ┆   ┆ f64       ┆ f64       ┆ f64       ┆ ---       │\n",
       "│          ┆           ┆           ┆           ┆   ┆           ┆           ┆           ┆ f64       │\n",
       "╞══════════╪═══════════╪═══════════╪═══════════╪═══╪═══════════╪═══════════╪═══════════╪═══════════╡\n",
       "│ 1        ┆ 25514.630 ┆ 31916.090 ┆ NaN       ┆ … ┆ NaN       ┆ 1.1926e6  ┆ 1.2926e6  ┆ NaN       │\n",
       "│          ┆ 246       ┆ 969       ┆           ┆   ┆           ┆           ┆           ┆           │\n",
       "│ 2        ┆ 22247.212 ┆ 21017.945 ┆ NaN       ┆ … ┆ NaN       ┆ 780436.70 ┆ 625054.34 ┆ NaN       │\n",
       "│          ┆ 02        ┆ 144       ┆           ┆   ┆           ┆ 7191      ┆ 9329      ┆           │\n",
       "│ 3        ┆ 19574.471 ┆ 16461.396 ┆ NaN       ┆ … ┆ NaN       ┆ 539969.50 ┆ 408638.54 ┆ NaN       │\n",
       "│          ┆ 789       ┆ 847       ┆           ┆   ┆           ┆ 762       ┆ 6806      ┆           │\n",
       "│ 4        ┆ 17371.847 ┆ 13841.106 ┆ NaN       ┆ … ┆ NaN       ┆ 389330.15 ┆ 302258.71 ┆ NaN       │\n",
       "│          ┆ 913       ┆ 623       ┆           ┆   ┆           ┆ 1503      ┆ 8352      ┆           │\n",
       "│ 5        ┆ 15542.309 ┆ 12099.482 ┆ NaN       ┆ … ┆ NaN       ┆ 289323.80 ┆ 239220.27 ┆ NaN       │\n",
       "│          ┆ 972       ┆ 604       ┆           ┆   ┆           ┆ 8374      ┆ 4884      ┆           │\n",
       "│ …        ┆ …         ┆ …         ┆ …         ┆ … ┆ …         ┆ …         ┆ …         ┆ …         │\n",
       "│ 2076     ┆ NaN       ┆ 319.77294 ┆ 1.005129  ┆ … ┆ NaN       ┆ NaN       ┆ 430.87043 ┆ NaN       │\n",
       "│          ┆           ┆ 4         ┆           ┆   ┆           ┆           ┆ 4         ┆           │\n",
       "│ 2077     ┆ NaN       ┆ 319.68015 ┆ 1.003818  ┆ … ┆ NaN       ┆ NaN       ┆ 430.65298 ┆ NaN       │\n",
       "│          ┆           ┆           ┆           ┆   ┆           ┆           ┆ 9         ┆           │\n",
       "│ 2078     ┆ NaN       ┆ 319.58742 ┆ 1.002509  ┆ … ┆ NaN       ┆ NaN       ┆ 430.43575 ┆ NaN       │\n",
       "│          ┆           ┆ 7         ┆           ┆   ┆           ┆           ┆ 9         ┆           │\n",
       "│ 2079     ┆ NaN       ┆ 319.49477 ┆ 1.001203  ┆ … ┆ NaN       ┆ NaN       ┆ 430.21874 ┆ NaN       │\n",
       "│          ┆           ┆ 6         ┆           ┆   ┆           ┆           ┆ 3         ┆           │\n",
       "│ 2080     ┆ NaN       ┆ 319.40219 ┆ NaN       ┆ … ┆ NaN       ┆ NaN       ┆ 430.00194 ┆ NaN       │\n",
       "│          ┆           ┆ 6         ┆           ┆   ┆           ┆           ┆ 1         ┆           │\n",
       "└──────────┴───────────┴───────────┴───────────┴───┴───────────┴───────────┴───────────┴───────────┘"
      ]
     },
     "execution_count": 335,
     "metadata": {},
     "output_type": "execute_result"
    }
   ],
   "source": [
    "fits"
   ]
  },
  {
   "cell_type": "code",
   "execution_count": 336,
   "metadata": {},
   "outputs": [],
   "source": [
    "fitsm = fits.unpivot(index=\"timestep\",\n",
    "                     value_name=\"remaining\",\n",
    "                     variable_name=\"fit_case\")"
   ]
  },
  {
   "cell_type": "code",
   "execution_count": 337,
   "metadata": {},
   "outputs": [
    {
     "data": {
      "text/html": [
       "<div><style>\n",
       ".dataframe > thead > tr,\n",
       ".dataframe > tbody > tr {\n",
       "  text-align: right;\n",
       "  white-space: pre-wrap;\n",
       "}\n",
       "</style>\n",
       "<small>shape: (24_960, 3)</small><table border=\"1\" class=\"dataframe\"><thead><tr><th>timestep</th><th>fit_case</th><th>remaining</th></tr><tr><td>i64</td><td>str</td><td>f64</td></tr></thead><tbody><tr><td>1</td><td>&quot;gaus_350_tri.exp&quot;</td><td>25514.630246</td></tr><tr><td>2</td><td>&quot;gaus_350_tri.exp&quot;</td><td>22247.21202</td></tr><tr><td>3</td><td>&quot;gaus_350_tri.exp&quot;</td><td>19574.471789</td></tr><tr><td>4</td><td>&quot;gaus_350_tri.exp&quot;</td><td>17371.847913</td></tr><tr><td>5</td><td>&quot;gaus_350_tri.exp&quot;</td><td>15542.309972</td></tr><tr><td>&hellip;</td><td>&hellip;</td><td>&hellip;</td></tr><tr><td>2076</td><td>&quot;uniform_250_powerlaw.weighted&quot;</td><td>NaN</td></tr><tr><td>2077</td><td>&quot;uniform_250_powerlaw.weighted&quot;</td><td>NaN</td></tr><tr><td>2078</td><td>&quot;uniform_250_powerlaw.weighted&quot;</td><td>NaN</td></tr><tr><td>2079</td><td>&quot;uniform_250_powerlaw.weighted&quot;</td><td>NaN</td></tr><tr><td>2080</td><td>&quot;uniform_250_powerlaw.weighted&quot;</td><td>NaN</td></tr></tbody></table></div>"
      ],
      "text/plain": [
       "shape: (24_960, 3)\n",
       "┌──────────┬───────────────────────────────┬──────────────┐\n",
       "│ timestep ┆ fit_case                      ┆ remaining    │\n",
       "│ ---      ┆ ---                           ┆ ---          │\n",
       "│ i64      ┆ str                           ┆ f64          │\n",
       "╞══════════╪═══════════════════════════════╪══════════════╡\n",
       "│ 1        ┆ gaus_350_tri.exp              ┆ 25514.630246 │\n",
       "│ 2        ┆ gaus_350_tri.exp              ┆ 22247.21202  │\n",
       "│ 3        ┆ gaus_350_tri.exp              ┆ 19574.471789 │\n",
       "│ 4        ┆ gaus_350_tri.exp              ┆ 17371.847913 │\n",
       "│ 5        ┆ gaus_350_tri.exp              ┆ 15542.309972 │\n",
       "│ …        ┆ …                             ┆ …            │\n",
       "│ 2076     ┆ uniform_250_powerlaw.weighted ┆ NaN          │\n",
       "│ 2077     ┆ uniform_250_powerlaw.weighted ┆ NaN          │\n",
       "│ 2078     ┆ uniform_250_powerlaw.weighted ┆ NaN          │\n",
       "│ 2079     ┆ uniform_250_powerlaw.weighted ┆ NaN          │\n",
       "│ 2080     ┆ uniform_250_powerlaw.weighted ┆ NaN          │\n",
       "└──────────┴───────────────────────────────┴──────────────┘"
      ]
     },
     "execution_count": 337,
     "metadata": {},
     "output_type": "execute_result"
    }
   ],
   "source": [
    "fitsm"
   ]
  },
  {
   "cell_type": "code",
   "execution_count": 338,
   "metadata": {},
   "outputs": [],
   "source": [
    "fitsm = fitsm.with_columns(\n",
    "    pl.col(\"fit_case\").str.split(\"_\").list.get(0).alias(\"distribution\"),\n",
    "    pl.col(\"fit_case\").str.split(\"_\").list.get(1).alias(\"around\"),\n",
    "    pl.col(\"fit_case\").str.split(\"_\").list.get(2).alias(\"equation\")\n",
    ")"
   ]
  },
  {
   "cell_type": "code",
   "execution_count": 339,
   "metadata": {},
   "outputs": [],
   "source": [
    "gauss = fitsm.filter(pl.col(\"distribution\")==\"gaus\")\n",
    "uni = fitsm.filter(pl.col(\"distribution\")==\"uniform\")"
   ]
  },
  {
   "cell_type": "code",
   "execution_count": 340,
   "metadata": {},
   "outputs": [
    {
     "data": {
      "text/html": [
       "<div><style>\n",
       ".dataframe > thead > tr,\n",
       ".dataframe > tbody > tr {\n",
       "  text-align: right;\n",
       "  white-space: pre-wrap;\n",
       "}\n",
       "</style>\n",
       "<small>shape: (12, 6)</small><table border=\"1\" class=\"dataframe\"><thead><tr><th>timestep</th><th>fit_case</th><th>remaining</th><th>distribution</th><th>around</th><th>equation</th></tr><tr><td>i64</td><td>str</td><td>f64</td><td>str</td><td>str</td><td>str</td></tr></thead><tbody><tr><td>945</td><td>&quot;gaus_250_powerlaw&quot;</td><td>394.854167</td><td>&quot;gaus&quot;</td><td>&quot;250&quot;</td><td>&quot;powerlaw&quot;</td></tr><tr><td>26</td><td>&quot;gaus_250_tri.exp&quot;</td><td>48.85444</td><td>&quot;gaus&quot;</td><td>&quot;250&quot;</td><td>&quot;tri.exp&quot;</td></tr><tr><td>1292</td><td>&quot;gaus_250_powerlaw&quot;</td><td>263.518775</td><td>&quot;gaus&quot;</td><td>&quot;250&quot;</td><td>&quot;powerlaw&quot;</td></tr><tr><td>1300</td><td>&quot;gaus_250_powerlaw.weighted&quot;</td><td>NaN</td><td>&quot;gaus&quot;</td><td>&quot;250&quot;</td><td>&quot;powerlaw.weighted&quot;</td></tr><tr><td>671</td><td>&quot;gaus_350_tri.exp&quot;</td><td>NaN</td><td>&quot;gaus&quot;</td><td>&quot;350&quot;</td><td>&quot;tri.exp&quot;</td></tr><tr><td>&hellip;</td><td>&hellip;</td><td>&hellip;</td><td>&hellip;</td><td>&hellip;</td><td>&hellip;</td></tr><tr><td>1879</td><td>&quot;gaus_350_powerlaw.weighted&quot;</td><td>1.316994</td><td>&quot;gaus&quot;</td><td>&quot;350&quot;</td><td>&quot;powerlaw.weighted&quot;</td></tr><tr><td>1611</td><td>&quot;gaus_250_powerlaw&quot;</td><td>198.108103</td><td>&quot;gaus&quot;</td><td>&quot;250&quot;</td><td>&quot;powerlaw&quot;</td></tr><tr><td>1956</td><td>&quot;gaus_250_powerlaw.weighted&quot;</td><td>NaN</td><td>&quot;gaus&quot;</td><td>&quot;250&quot;</td><td>&quot;powerlaw.weighted&quot;</td></tr><tr><td>373</td><td>&quot;gaus_250_powerlaw&quot;</td><td>1313.526456</td><td>&quot;gaus&quot;</td><td>&quot;250&quot;</td><td>&quot;powerlaw&quot;</td></tr><tr><td>1945</td><td>&quot;gaus_250_powerlaw&quot;</td><td>155.27663</td><td>&quot;gaus&quot;</td><td>&quot;250&quot;</td><td>&quot;powerlaw&quot;</td></tr></tbody></table></div>"
      ],
      "text/plain": [
       "shape: (12, 6)\n",
       "┌──────────┬────────────────────────────┬─────────────┬──────────────┬────────┬───────────────────┐\n",
       "│ timestep ┆ fit_case                   ┆ remaining   ┆ distribution ┆ around ┆ equation          │\n",
       "│ ---      ┆ ---                        ┆ ---         ┆ ---          ┆ ---    ┆ ---               │\n",
       "│ i64      ┆ str                        ┆ f64         ┆ str          ┆ str    ┆ str               │\n",
       "╞══════════╪════════════════════════════╪═════════════╪══════════════╪════════╪═══════════════════╡\n",
       "│ 945      ┆ gaus_250_powerlaw          ┆ 394.854167  ┆ gaus         ┆ 250    ┆ powerlaw          │\n",
       "│ 26       ┆ gaus_250_tri.exp           ┆ 48.85444    ┆ gaus         ┆ 250    ┆ tri.exp           │\n",
       "│ 1292     ┆ gaus_250_powerlaw          ┆ 263.518775  ┆ gaus         ┆ 250    ┆ powerlaw          │\n",
       "│ 1300     ┆ gaus_250_powerlaw.weighted ┆ NaN         ┆ gaus         ┆ 250    ┆ powerlaw.weighted │\n",
       "│ 671      ┆ gaus_350_tri.exp           ┆ NaN         ┆ gaus         ┆ 350    ┆ tri.exp           │\n",
       "│ …        ┆ …                          ┆ …           ┆ …            ┆ …      ┆ …                 │\n",
       "│ 1879     ┆ gaus_350_powerlaw.weighted ┆ 1.316994    ┆ gaus         ┆ 350    ┆ powerlaw.weighted │\n",
       "│ 1611     ┆ gaus_250_powerlaw          ┆ 198.108103  ┆ gaus         ┆ 250    ┆ powerlaw          │\n",
       "│ 1956     ┆ gaus_250_powerlaw.weighted ┆ NaN         ┆ gaus         ┆ 250    ┆ powerlaw.weighted │\n",
       "│ 373      ┆ gaus_250_powerlaw          ┆ 1313.526456 ┆ gaus         ┆ 250    ┆ powerlaw          │\n",
       "│ 1945     ┆ gaus_250_powerlaw          ┆ 155.27663   ┆ gaus         ┆ 250    ┆ powerlaw          │\n",
       "└──────────┴────────────────────────────┴─────────────┴──────────────┴────────┴───────────────────┘"
      ]
     },
     "execution_count": 340,
     "metadata": {},
     "output_type": "execute_result"
    }
   ],
   "source": [
    "gauss.sample(12)"
   ]
  },
  {
   "cell_type": "code",
   "execution_count": 341,
   "metadata": {},
   "outputs": [
    {
     "data": {
      "text/html": [
       "<div><style>\n",
       ".dataframe > thead > tr,\n",
       ".dataframe > tbody > tr {\n",
       "  text-align: right;\n",
       "  white-space: pre-wrap;\n",
       "}\n",
       "</style>\n",
       "<small>shape: (12, 5)</small><table border=\"1\" class=\"dataframe\"><thead><tr><th>timestep</th><th>case</th><th>remaining</th><th>distribution</th><th>around</th></tr><tr><td>i64</td><td>str</td><td>f64</td><td>str</td><td>str</td></tr></thead><tbody><tr><td>116</td><td>&quot;uniform_350&quot;</td><td>676.0</td><td>&quot;uniform&quot;</td><td>&quot;uniform&quot;</td></tr><tr><td>36</td><td>&quot;gaus_350&quot;</td><td>2806.0</td><td>&quot;gaus&quot;</td><td>&quot;gaus&quot;</td></tr><tr><td>1</td><td>&quot;uniform_250&quot;</td><td>1.192739e6</td><td>&quot;uniform&quot;</td><td>&quot;uniform&quot;</td></tr><tr><td>13</td><td>&quot;uniform_350&quot;</td><td>5429.0</td><td>&quot;uniform&quot;</td><td>&quot;uniform&quot;</td></tr><tr><td>23</td><td>&quot;uniform_350&quot;</td><td>3747.0</td><td>&quot;uniform&quot;</td><td>&quot;uniform&quot;</td></tr><tr><td>&hellip;</td><td>&hellip;</td><td>&hellip;</td><td>&hellip;</td><td>&hellip;</td></tr><tr><td>24</td><td>&quot;gaus_250&quot;</td><td>114.0</td><td>&quot;gaus&quot;</td><td>&quot;gaus&quot;</td></tr><tr><td>224</td><td>&quot;uniform_350&quot;</td><td>177.0</td><td>&quot;uniform&quot;</td><td>&quot;uniform&quot;</td></tr><tr><td>42</td><td>&quot;gaus_350&quot;</td><td>2285.0</td><td>&quot;gaus&quot;</td><td>&quot;gaus&quot;</td></tr><tr><td>634</td><td>&quot;uniform_350&quot;</td><td>16.0</td><td>&quot;uniform&quot;</td><td>&quot;uniform&quot;</td></tr><tr><td>86</td><td>&quot;uniform_350&quot;</td><td>1078.0</td><td>&quot;uniform&quot;</td><td>&quot;uniform&quot;</td></tr></tbody></table></div>"
      ],
      "text/plain": [
       "shape: (12, 5)\n",
       "┌──────────┬─────────────┬────────────┬──────────────┬─────────┐\n",
       "│ timestep ┆ case        ┆ remaining  ┆ distribution ┆ around  │\n",
       "│ ---      ┆ ---         ┆ ---        ┆ ---          ┆ ---     │\n",
       "│ i64      ┆ str         ┆ f64        ┆ str          ┆ str     │\n",
       "╞══════════╪═════════════╪════════════╪══════════════╪═════════╡\n",
       "│ 116      ┆ uniform_350 ┆ 676.0      ┆ uniform      ┆ uniform │\n",
       "│ 36       ┆ gaus_350    ┆ 2806.0     ┆ gaus         ┆ gaus    │\n",
       "│ 1        ┆ uniform_250 ┆ 1.192739e6 ┆ uniform      ┆ uniform │\n",
       "│ 13       ┆ uniform_350 ┆ 5429.0     ┆ uniform      ┆ uniform │\n",
       "│ 23       ┆ uniform_350 ┆ 3747.0     ┆ uniform      ┆ uniform │\n",
       "│ …        ┆ …           ┆ …          ┆ …            ┆ …       │\n",
       "│ 24       ┆ gaus_250    ┆ 114.0      ┆ gaus         ┆ gaus    │\n",
       "│ 224      ┆ uniform_350 ┆ 177.0      ┆ uniform      ┆ uniform │\n",
       "│ 42       ┆ gaus_350    ┆ 2285.0     ┆ gaus         ┆ gaus    │\n",
       "│ 634      ┆ uniform_350 ┆ 16.0       ┆ uniform      ┆ uniform │\n",
       "│ 86       ┆ uniform_350 ┆ 1078.0     ┆ uniform      ┆ uniform │\n",
       "└──────────┴─────────────┴────────────┴──────────────┴─────────┘"
      ]
     },
     "execution_count": 341,
     "metadata": {},
     "output_type": "execute_result"
    }
   ],
   "source": [
    "df.sample(12)"
   ]
  },
  {
   "cell_type": "code",
   "execution_count": 342,
   "metadata": {},
   "outputs": [],
   "source": [
    "df_gauss =df.filter(pl.col(\"distribution\")==\"gaus\")"
   ]
  },
  {
   "cell_type": "code",
   "execution_count": 356,
   "metadata": {},
   "outputs": [],
   "source": [
    "def plot_it(df:pl.DataFrame,fits:pl.DataFrame,color_by):\n",
    "\n",
    "    return (ggplot(data=df, mapping=aes(x=\"timestep\", y=\"remaining\",color=color_by))\n",
    "            + geom_point()\n",
    "            # + geom_line(data=fits, mapping=aes(x=\"timestep\", y=\"remaining\") )\n",
    "            + scale_color_brewer()\n",
    "            + scale_x_log10()\n",
    "            + scale_y_log10()\n",
    "            + theme_classic()\n",
    "            + ggsize(600,400)\n",
    "            )"
   ]
  },
  {
   "cell_type": "code",
   "execution_count": 357,
   "metadata": {},
   "outputs": [],
   "source": [
    "eqs = [\"tri.exp\",\"powerlaw\",\"powerlaw.weighted\"]"
   ]
  },
  {
   "cell_type": "code",
   "execution_count": 358,
   "metadata": {},
   "outputs": [
    {
     "data": {
      "text/html": [
       "   <div id=\"p2ftiY\"></div>\n",
       "   <script type=\"text/javascript\" data-lets-plot-script=\"plot\">\n",
       "       (function() {\n",
       "           var plotSpec={\n",
       "\"kind\":\"subplots\",\n",
       "\"layout\":{\n",
       "\"ncol\":3.0,\n",
       "\"nrow\":1.0,\n",
       "\"name\":\"grid\"\n",
       "},\n",
       "\"figures\":[{\n",
       "\"data\":{\n",
       "\"timestep\":[1.0,2.0,3.0,4.0,5.0,6.0,7.0,8.0,9.0,10.0,11.0,12.0,13.0,14.0,15.0,16.0,17.0,18.0,19.0,20.0,21.0,22.0,23.0,24.0,25.0,26.0,27.0,28.0,29.0,31.0,33.0,36.0,38.0,1.0,2.0,3.0,4.0,5.0,6.0,7.0,8.0,9.0,10.0,11.0,12.0,13.0,14.0,15.0,16.0,17.0,18.0,19.0,20.0,21.0,22.0,23.0,24.0,25.0,26.0,27.0,28.0,29.0,30.0,31.0,32.0,33.0,34.0,35.0,36.0,37.0,38.0,39.0,40.0,98.0,150.0,148.0,327.0,41.0,158.0,210.0,53.0,84.0,80.0,191.0,290.0,197.0,46.0,177.0,108.0,558.0,86.0,149.0,144.0,274.0,116.0,261.0,224.0,58.0,205.0,72.0,321.0,142.0,42.0,252.0,486.0,90.0,264.0,187.0,178.0,93.0,162.0,189.0,223.0,692.0,733.0,759.0,766.0,829.0,874.0,916.0,938.0,1013.0,1110.0,1168.0,1289.0,1388.0,1605.0,2080.0],\n",
       "\"remaining\":[2644846.0,1486948.0,871955.0,523917.0,320429.0,199124.0,124460.0,78640.0,50798.0,32420.0,21275.0,13764.0,9109.0,5960.0,4011.0,2709.0,1791.0,1153.0,810.0,559.0,359.0,272.0,173.0,114.0,87.0,60.0,42.0,31.0,13.0,5.0,6.0,2.0,1.0,25712.0,21954.0,19447.0,17564.0,15537.0,13969.0,12725.0,11769.0,10713.0,9871.0,9078.0,8540.0,7990.0,7412.0,6962.0,6514.0,6238.0,5894.0,5440.0,5234.0,5084.0,4817.0,4624.0,4471.0,4249.0,4095.0,3653.0,3798.0,3526.0,3472.0,3364.0,3188.0,3024.0,3011.0,2882.0,2806.0,2594.0,2704.0,2650.0,2554.0,632.0,282.0,319.0,67.0,2496.0,258.0,156.0,1753.0,896.0,949.0,174.0,89.0,161.0,2057.0,207.0,578.0,25.0,817.0,308.0,300.0,99.0,524.0,96.0,136.0,1504.0,172.0,1114.0,80.0,295.0,2285.0,94.0,37.0,760.0,103.0,200.0,194.0,747.0,228.0,187.0,141.0,15.0,16.0,12.0,14.0,11.0,10.0,9.0,8.0,7.0,6.0,5.0,4.0,3.0,2.0,1.0],\n",
       "\"around\":[\"gaus\",\"gaus\",\"gaus\",\"gaus\",\"gaus\",\"gaus\",\"gaus\",\"gaus\",\"gaus\",\"gaus\",\"gaus\",\"gaus\",\"gaus\",\"gaus\",\"gaus\",\"gaus\",\"gaus\",\"gaus\",\"gaus\",\"gaus\",\"gaus\",\"gaus\",\"gaus\",\"gaus\",\"gaus\",\"gaus\",\"gaus\",\"gaus\",\"gaus\",\"gaus\",\"gaus\",\"gaus\",\"gaus\",\"gaus\",\"gaus\",\"gaus\",\"gaus\",\"gaus\",\"gaus\",\"gaus\",\"gaus\",\"gaus\",\"gaus\",\"gaus\",\"gaus\",\"gaus\",\"gaus\",\"gaus\",\"gaus\",\"gaus\",\"gaus\",\"gaus\",\"gaus\",\"gaus\",\"gaus\",\"gaus\",\"gaus\",\"gaus\",\"gaus\",\"gaus\",\"gaus\",\"gaus\",\"gaus\",\"gaus\",\"gaus\",\"gaus\",\"gaus\",\"gaus\",\"gaus\",\"gaus\",\"gaus\",\"gaus\",\"gaus\",\"gaus\",\"gaus\",\"gaus\",\"gaus\",\"gaus\",\"gaus\",\"gaus\",\"gaus\",\"gaus\",\"gaus\",\"gaus\",\"gaus\",\"gaus\",\"gaus\",\"gaus\",\"gaus\",\"gaus\",\"gaus\",\"gaus\",\"gaus\",\"gaus\",\"gaus\",\"gaus\",\"gaus\",\"gaus\",\"gaus\",\"gaus\",\"gaus\",\"gaus\",\"gaus\",\"gaus\",\"gaus\",\"gaus\",\"gaus\",\"gaus\",\"gaus\",\"gaus\",\"gaus\",\"gaus\",\"gaus\",\"gaus\",\"gaus\",\"gaus\",\"gaus\",\"gaus\",\"gaus\",\"gaus\",\"gaus\",\"gaus\",\"gaus\",\"gaus\",\"gaus\",\"gaus\",\"gaus\",\"gaus\"]\n",
       "},\n",
       "\"mapping\":{\n",
       "\"x\":\"timestep\",\n",
       "\"y\":\"remaining\",\n",
       "\"color\":\"around\"\n",
       "},\n",
       "\"data_meta\":{\n",
       "\"series_annotations\":[{\n",
       "\"type\":\"int\",\n",
       "\"column\":\"timestep\"\n",
       "},{\n",
       "\"type\":\"str\",\n",
       "\"column\":\"case\"\n",
       "},{\n",
       "\"type\":\"float\",\n",
       "\"column\":\"remaining\"\n",
       "},{\n",
       "\"type\":\"str\",\n",
       "\"column\":\"distribution\"\n",
       "},{\n",
       "\"type\":\"str\",\n",
       "\"column\":\"around\"\n",
       "}]\n",
       "},\n",
       "\"theme\":{\n",
       "\"name\":\"classic\"\n",
       "},\n",
       "\"ggsize\":{\n",
       "\"width\":600.0,\n",
       "\"height\":400.0\n",
       "},\n",
       "\"kind\":\"plot\",\n",
       "\"scales\":[{\n",
       "\"aesthetic\":\"color\",\n",
       "\"scale_mapper_kind\":\"color_brewer\"\n",
       "},{\n",
       "\"aesthetic\":\"x\",\n",
       "\"trans\":\"log10\"\n",
       "},{\n",
       "\"aesthetic\":\"y\",\n",
       "\"trans\":\"log10\"\n",
       "}],\n",
       "\"layers\":[{\n",
       "\"geom\":\"point\",\n",
       "\"mapping\":{\n",
       "},\n",
       "\"data_meta\":{\n",
       "},\n",
       "\"data\":{\n",
       "}\n",
       "}],\n",
       "\"metainfo_list\":[]\n",
       "},{\n",
       "\"data\":{\n",
       "\"timestep\":[1.0,2.0,3.0,4.0,5.0,6.0,7.0,8.0,9.0,10.0,11.0,12.0,13.0,14.0,15.0,16.0,17.0,18.0,19.0,20.0,21.0,22.0,23.0,24.0,25.0,26.0,27.0,28.0,29.0,31.0,33.0,36.0,38.0,1.0,2.0,3.0,4.0,5.0,6.0,7.0,8.0,9.0,10.0,11.0,12.0,13.0,14.0,15.0,16.0,17.0,18.0,19.0,20.0,21.0,22.0,23.0,24.0,25.0,26.0,27.0,28.0,29.0,30.0,31.0,32.0,33.0,34.0,35.0,36.0,37.0,38.0,39.0,40.0,98.0,150.0,148.0,327.0,41.0,158.0,210.0,53.0,84.0,80.0,191.0,290.0,197.0,46.0,177.0,108.0,558.0,86.0,149.0,144.0,274.0,116.0,261.0,224.0,58.0,205.0,72.0,321.0,142.0,42.0,252.0,486.0,90.0,264.0,187.0,178.0,93.0,162.0,189.0,223.0,692.0,733.0,759.0,766.0,829.0,874.0,916.0,938.0,1013.0,1110.0,1168.0,1289.0,1388.0,1605.0,2080.0],\n",
       "\"remaining\":[2644846.0,1486948.0,871955.0,523917.0,320429.0,199124.0,124460.0,78640.0,50798.0,32420.0,21275.0,13764.0,9109.0,5960.0,4011.0,2709.0,1791.0,1153.0,810.0,559.0,359.0,272.0,173.0,114.0,87.0,60.0,42.0,31.0,13.0,5.0,6.0,2.0,1.0,25712.0,21954.0,19447.0,17564.0,15537.0,13969.0,12725.0,11769.0,10713.0,9871.0,9078.0,8540.0,7990.0,7412.0,6962.0,6514.0,6238.0,5894.0,5440.0,5234.0,5084.0,4817.0,4624.0,4471.0,4249.0,4095.0,3653.0,3798.0,3526.0,3472.0,3364.0,3188.0,3024.0,3011.0,2882.0,2806.0,2594.0,2704.0,2650.0,2554.0,632.0,282.0,319.0,67.0,2496.0,258.0,156.0,1753.0,896.0,949.0,174.0,89.0,161.0,2057.0,207.0,578.0,25.0,817.0,308.0,300.0,99.0,524.0,96.0,136.0,1504.0,172.0,1114.0,80.0,295.0,2285.0,94.0,37.0,760.0,103.0,200.0,194.0,747.0,228.0,187.0,141.0,15.0,16.0,12.0,14.0,11.0,10.0,9.0,8.0,7.0,6.0,5.0,4.0,3.0,2.0,1.0],\n",
       "\"around\":[\"gaus\",\"gaus\",\"gaus\",\"gaus\",\"gaus\",\"gaus\",\"gaus\",\"gaus\",\"gaus\",\"gaus\",\"gaus\",\"gaus\",\"gaus\",\"gaus\",\"gaus\",\"gaus\",\"gaus\",\"gaus\",\"gaus\",\"gaus\",\"gaus\",\"gaus\",\"gaus\",\"gaus\",\"gaus\",\"gaus\",\"gaus\",\"gaus\",\"gaus\",\"gaus\",\"gaus\",\"gaus\",\"gaus\",\"gaus\",\"gaus\",\"gaus\",\"gaus\",\"gaus\",\"gaus\",\"gaus\",\"gaus\",\"gaus\",\"gaus\",\"gaus\",\"gaus\",\"gaus\",\"gaus\",\"gaus\",\"gaus\",\"gaus\",\"gaus\",\"gaus\",\"gaus\",\"gaus\",\"gaus\",\"gaus\",\"gaus\",\"gaus\",\"gaus\",\"gaus\",\"gaus\",\"gaus\",\"gaus\",\"gaus\",\"gaus\",\"gaus\",\"gaus\",\"gaus\",\"gaus\",\"gaus\",\"gaus\",\"gaus\",\"gaus\",\"gaus\",\"gaus\",\"gaus\",\"gaus\",\"gaus\",\"gaus\",\"gaus\",\"gaus\",\"gaus\",\"gaus\",\"gaus\",\"gaus\",\"gaus\",\"gaus\",\"gaus\",\"gaus\",\"gaus\",\"gaus\",\"gaus\",\"gaus\",\"gaus\",\"gaus\",\"gaus\",\"gaus\",\"gaus\",\"gaus\",\"gaus\",\"gaus\",\"gaus\",\"gaus\",\"gaus\",\"gaus\",\"gaus\",\"gaus\",\"gaus\",\"gaus\",\"gaus\",\"gaus\",\"gaus\",\"gaus\",\"gaus\",\"gaus\",\"gaus\",\"gaus\",\"gaus\",\"gaus\",\"gaus\",\"gaus\",\"gaus\",\"gaus\",\"gaus\",\"gaus\",\"gaus\",\"gaus\",\"gaus\"]\n",
       "},\n",
       "\"mapping\":{\n",
       "\"x\":\"timestep\",\n",
       "\"y\":\"remaining\",\n",
       "\"color\":\"around\"\n",
       "},\n",
       "\"data_meta\":{\n",
       "\"series_annotations\":[{\n",
       "\"type\":\"int\",\n",
       "\"column\":\"timestep\"\n",
       "},{\n",
       "\"type\":\"str\",\n",
       "\"column\":\"case\"\n",
       "},{\n",
       "\"type\":\"float\",\n",
       "\"column\":\"remaining\"\n",
       "},{\n",
       "\"type\":\"str\",\n",
       "\"column\":\"distribution\"\n",
       "},{\n",
       "\"type\":\"str\",\n",
       "\"column\":\"around\"\n",
       "}]\n",
       "},\n",
       "\"theme\":{\n",
       "\"name\":\"classic\"\n",
       "},\n",
       "\"ggsize\":{\n",
       "\"width\":600.0,\n",
       "\"height\":400.0\n",
       "},\n",
       "\"kind\":\"plot\",\n",
       "\"scales\":[{\n",
       "\"aesthetic\":\"color\",\n",
       "\"scale_mapper_kind\":\"color_brewer\"\n",
       "},{\n",
       "\"aesthetic\":\"x\",\n",
       "\"trans\":\"log10\"\n",
       "},{\n",
       "\"aesthetic\":\"y\",\n",
       "\"trans\":\"log10\"\n",
       "}],\n",
       "\"layers\":[{\n",
       "\"geom\":\"point\",\n",
       "\"mapping\":{\n",
       "},\n",
       "\"data_meta\":{\n",
       "},\n",
       "\"data\":{\n",
       "}\n",
       "}],\n",
       "\"metainfo_list\":[]\n",
       "},{\n",
       "\"data\":{\n",
       "\"timestep\":[1.0,2.0,3.0,4.0,5.0,6.0,7.0,8.0,9.0,10.0,11.0,12.0,13.0,14.0,15.0,16.0,17.0,18.0,19.0,20.0,21.0,22.0,23.0,24.0,25.0,26.0,27.0,28.0,29.0,31.0,33.0,36.0,38.0,1.0,2.0,3.0,4.0,5.0,6.0,7.0,8.0,9.0,10.0,11.0,12.0,13.0,14.0,15.0,16.0,17.0,18.0,19.0,20.0,21.0,22.0,23.0,24.0,25.0,26.0,27.0,28.0,29.0,30.0,31.0,32.0,33.0,34.0,35.0,36.0,37.0,38.0,39.0,40.0,98.0,150.0,148.0,327.0,41.0,158.0,210.0,53.0,84.0,80.0,191.0,290.0,197.0,46.0,177.0,108.0,558.0,86.0,149.0,144.0,274.0,116.0,261.0,224.0,58.0,205.0,72.0,321.0,142.0,42.0,252.0,486.0,90.0,264.0,187.0,178.0,93.0,162.0,189.0,223.0,692.0,733.0,759.0,766.0,829.0,874.0,916.0,938.0,1013.0,1110.0,1168.0,1289.0,1388.0,1605.0,2080.0],\n",
       "\"remaining\":[2644846.0,1486948.0,871955.0,523917.0,320429.0,199124.0,124460.0,78640.0,50798.0,32420.0,21275.0,13764.0,9109.0,5960.0,4011.0,2709.0,1791.0,1153.0,810.0,559.0,359.0,272.0,173.0,114.0,87.0,60.0,42.0,31.0,13.0,5.0,6.0,2.0,1.0,25712.0,21954.0,19447.0,17564.0,15537.0,13969.0,12725.0,11769.0,10713.0,9871.0,9078.0,8540.0,7990.0,7412.0,6962.0,6514.0,6238.0,5894.0,5440.0,5234.0,5084.0,4817.0,4624.0,4471.0,4249.0,4095.0,3653.0,3798.0,3526.0,3472.0,3364.0,3188.0,3024.0,3011.0,2882.0,2806.0,2594.0,2704.0,2650.0,2554.0,632.0,282.0,319.0,67.0,2496.0,258.0,156.0,1753.0,896.0,949.0,174.0,89.0,161.0,2057.0,207.0,578.0,25.0,817.0,308.0,300.0,99.0,524.0,96.0,136.0,1504.0,172.0,1114.0,80.0,295.0,2285.0,94.0,37.0,760.0,103.0,200.0,194.0,747.0,228.0,187.0,141.0,15.0,16.0,12.0,14.0,11.0,10.0,9.0,8.0,7.0,6.0,5.0,4.0,3.0,2.0,1.0],\n",
       "\"around\":[\"gaus\",\"gaus\",\"gaus\",\"gaus\",\"gaus\",\"gaus\",\"gaus\",\"gaus\",\"gaus\",\"gaus\",\"gaus\",\"gaus\",\"gaus\",\"gaus\",\"gaus\",\"gaus\",\"gaus\",\"gaus\",\"gaus\",\"gaus\",\"gaus\",\"gaus\",\"gaus\",\"gaus\",\"gaus\",\"gaus\",\"gaus\",\"gaus\",\"gaus\",\"gaus\",\"gaus\",\"gaus\",\"gaus\",\"gaus\",\"gaus\",\"gaus\",\"gaus\",\"gaus\",\"gaus\",\"gaus\",\"gaus\",\"gaus\",\"gaus\",\"gaus\",\"gaus\",\"gaus\",\"gaus\",\"gaus\",\"gaus\",\"gaus\",\"gaus\",\"gaus\",\"gaus\",\"gaus\",\"gaus\",\"gaus\",\"gaus\",\"gaus\",\"gaus\",\"gaus\",\"gaus\",\"gaus\",\"gaus\",\"gaus\",\"gaus\",\"gaus\",\"gaus\",\"gaus\",\"gaus\",\"gaus\",\"gaus\",\"gaus\",\"gaus\",\"gaus\",\"gaus\",\"gaus\",\"gaus\",\"gaus\",\"gaus\",\"gaus\",\"gaus\",\"gaus\",\"gaus\",\"gaus\",\"gaus\",\"gaus\",\"gaus\",\"gaus\",\"gaus\",\"gaus\",\"gaus\",\"gaus\",\"gaus\",\"gaus\",\"gaus\",\"gaus\",\"gaus\",\"gaus\",\"gaus\",\"gaus\",\"gaus\",\"gaus\",\"gaus\",\"gaus\",\"gaus\",\"gaus\",\"gaus\",\"gaus\",\"gaus\",\"gaus\",\"gaus\",\"gaus\",\"gaus\",\"gaus\",\"gaus\",\"gaus\",\"gaus\",\"gaus\",\"gaus\",\"gaus\",\"gaus\",\"gaus\",\"gaus\",\"gaus\",\"gaus\",\"gaus\",\"gaus\",\"gaus\"]\n",
       "},\n",
       "\"mapping\":{\n",
       "\"x\":\"timestep\",\n",
       "\"y\":\"remaining\",\n",
       "\"color\":\"around\"\n",
       "},\n",
       "\"data_meta\":{\n",
       "\"series_annotations\":[{\n",
       "\"type\":\"int\",\n",
       "\"column\":\"timestep\"\n",
       "},{\n",
       "\"type\":\"str\",\n",
       "\"column\":\"case\"\n",
       "},{\n",
       "\"type\":\"float\",\n",
       "\"column\":\"remaining\"\n",
       "},{\n",
       "\"type\":\"str\",\n",
       "\"column\":\"distribution\"\n",
       "},{\n",
       "\"type\":\"str\",\n",
       "\"column\":\"around\"\n",
       "}]\n",
       "},\n",
       "\"theme\":{\n",
       "\"name\":\"classic\"\n",
       "},\n",
       "\"ggsize\":{\n",
       "\"width\":600.0,\n",
       "\"height\":400.0\n",
       "},\n",
       "\"kind\":\"plot\",\n",
       "\"scales\":[{\n",
       "\"aesthetic\":\"color\",\n",
       "\"scale_mapper_kind\":\"color_brewer\"\n",
       "},{\n",
       "\"aesthetic\":\"x\",\n",
       "\"trans\":\"log10\"\n",
       "},{\n",
       "\"aesthetic\":\"y\",\n",
       "\"trans\":\"log10\"\n",
       "}],\n",
       "\"layers\":[{\n",
       "\"geom\":\"point\",\n",
       "\"mapping\":{\n",
       "},\n",
       "\"data_meta\":{\n",
       "},\n",
       "\"data\":{\n",
       "}\n",
       "}],\n",
       "\"metainfo_list\":[]\n",
       "}]\n",
       "};\n",
       "           var plotContainer = document.getElementById(\"p2ftiY\");\n",
       "           window.letsPlotCall(function() {{\n",
       "               LetsPlot.buildPlotFromProcessedSpecs(plotSpec, -1, -1, plotContainer);\n",
       "           }});\n",
       "       })();\n",
       "   </script>"
      ],
      "text/plain": [
       "<lets_plot.plot.subplots.SupPlotsSpec at 0x1b84c182dd0>"
      ]
     },
     "execution_count": 358,
     "metadata": {},
     "output_type": "execute_result"
    }
   ],
   "source": [
    "gggrid([\n",
    "        plot_it(df=df.filter(pl.col(\"distribution\")==\"gaus\"),\n",
    "                fits=gauss.filter(pl.col(\"equation\")==eq),\n",
    "                color_by=\"around\") \n",
    "                for eq in eqs \n",
    "                ]\n",
    ")"
   ]
  },
  {
   "cell_type": "code",
   "execution_count": null,
   "metadata": {},
   "outputs": [],
   "source": []
  }
 ],
 "metadata": {
  "kernelspec": {
   "display_name": ".venv",
   "language": "python",
   "name": "python3"
  },
  "language_info": {
   "codemirror_mode": {
    "name": "ipython",
    "version": 3
   },
   "file_extension": ".py",
   "mimetype": "text/x-python",
   "name": "python",
   "nbconvert_exporter": "python",
   "pygments_lexer": "ipython3",
   "version": "3.11.9"
  }
 },
 "nbformat": 4,
 "nbformat_minor": 2
}
