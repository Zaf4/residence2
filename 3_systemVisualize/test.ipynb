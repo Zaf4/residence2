{
 "cells": [
  {
   "cell_type": "code",
   "execution_count": 2,
   "metadata": {},
   "outputs": [
    {
     "data": {
      "text/html": [
       "\n",
       "            <div id=\"7AgYqB\"></div>\n",
       "            <script type=\"text/javascript\" data-lets-plot-script=\"library\">\n",
       "                if(!window.letsPlotCallQueue) {\n",
       "                    window.letsPlotCallQueue = [];\n",
       "                }; \n",
       "                window.letsPlotCall = function(f) {\n",
       "                    window.letsPlotCallQueue.push(f);\n",
       "                };\n",
       "                (function() {\n",
       "                    var script = document.createElement(\"script\");\n",
       "                    script.type = \"text/javascript\";\n",
       "                    script.src = \"https://cdn.jsdelivr.net/gh/JetBrains/lets-plot@v4.3.3/js-package/distr/lets-plot.min.js\";\n",
       "                    script.onload = function() {\n",
       "                        window.letsPlotCall = function(f) {f();};\n",
       "                        window.letsPlotCallQueue.forEach(function(f) {f();});\n",
       "                        window.letsPlotCallQueue = [];\n",
       "                        \n",
       "                    };\n",
       "                    script.onerror = function(event) {\n",
       "                        window.letsPlotCall = function(f) {};    // noop\n",
       "                        window.letsPlotCallQueue = [];\n",
       "                        var div = document.createElement(\"div\");\n",
       "                        div.style.color = 'darkred';\n",
       "                        div.textContent = 'Error loading Lets-Plot JS';\n",
       "                        document.getElementById(\"7AgYqB\").appendChild(div);\n",
       "                    };\n",
       "                    var e = document.getElementById(\"7AgYqB\");\n",
       "                    e.appendChild(script);\n",
       "                })()\n",
       "            </script>\n",
       "            "
      ]
     },
     "metadata": {},
     "output_type": "display_data"
    }
   ],
   "source": [
    "from lets_plot import *\n",
    "import numpy as np\n",
    "import pandas as pd\n",
    "import os\n",
    "from system_visualize import data2df, cluster_single_df\n",
    "import polars as pl\n",
    "LetsPlot.setup_html()"
   ]
  },
  {
   "cell_type": "code",
   "execution_count": 3,
   "metadata": {},
   "outputs": [
    {
     "name": "stdout",
     "output_type": "stream",
     "text": [
      "100\n",
      "280\n",
      "300\n",
      "350\n",
      "400\n"
     ]
    },
    {
     "data": {
      "text/html": [
       "<div><style>\n",
       ".dataframe > thead > tr,\n",
       ".dataframe > tbody > tr {\n",
       "  text-align: right;\n",
       "  white-space: pre-wrap;\n",
       "}\n",
       "</style>\n",
       "<small>shape: (12, 7)</small><table border=\"1\" class=\"dataframe\"><thead><tr><th>clusterID</th><th>size</th><th>kT</th><th>size_std</th><th>size_mean</th><th>size_upper</th><th>size_lower</th></tr><tr><td>i32</td><td>u32</td><td>str</td><td>f64</td><td>f64</td><td>f64</td><td>f64</td></tr></thead><tbody><tr><td>17</td><td>20</td><td>&quot;2.8&quot;</td><td>5.174883</td><td>22.176471</td><td>27.351353</td><td>17.001588</td></tr><tr><td>13</td><td>14</td><td>&quot;3.0&quot;</td><td>8.285796</td><td>26.823529</td><td>35.109325</td><td>18.537734</td></tr><tr><td>12</td><td>26</td><td>&quot;3.0&quot;</td><td>8.285796</td><td>26.823529</td><td>35.109325</td><td>18.537734</td></tr><tr><td>2</td><td>24</td><td>&quot;2.8&quot;</td><td>5.174883</td><td>22.176471</td><td>27.351353</td><td>17.001588</td></tr><tr><td>10</td><td>26</td><td>&quot;3.0&quot;</td><td>8.285796</td><td>26.823529</td><td>35.109325</td><td>18.537734</td></tr><tr><td>&hellip;</td><td>&hellip;</td><td>&hellip;</td><td>&hellip;</td><td>&hellip;</td><td>&hellip;</td><td>&hellip;</td></tr><tr><td>12</td><td>19</td><td>&quot;2.8&quot;</td><td>5.174883</td><td>22.176471</td><td>27.351353</td><td>17.001588</td></tr><tr><td>9</td><td>17</td><td>&quot;2.8&quot;</td><td>5.174883</td><td>22.176471</td><td>27.351353</td><td>17.001588</td></tr><tr><td>4</td><td>24</td><td>&quot;2.8&quot;</td><td>5.174883</td><td>22.176471</td><td>27.351353</td><td>17.001588</td></tr><tr><td>5</td><td>255</td><td>&quot;4.0&quot;</td><td>77.412531</td><td>124.2</td><td>201.612531</td><td>46.787469</td></tr><tr><td>15</td><td>35</td><td>&quot;3.0&quot;</td><td>8.285796</td><td>26.823529</td><td>35.109325</td><td>18.537734</td></tr></tbody></table></div>"
      ],
      "text/plain": [
       "shape: (12, 7)\n",
       "┌───────────┬──────┬─────┬───────────┬───────────┬────────────┬────────────┐\n",
       "│ clusterID ┆ size ┆ kT  ┆ size_std  ┆ size_mean ┆ size_upper ┆ size_lower │\n",
       "│ ---       ┆ ---  ┆ --- ┆ ---       ┆ ---       ┆ ---        ┆ ---        │\n",
       "│ i32       ┆ u32  ┆ str ┆ f64       ┆ f64       ┆ f64        ┆ f64        │\n",
       "╞═══════════╪══════╪═════╪═══════════╪═══════════╪════════════╪════════════╡\n",
       "│ 17        ┆ 20   ┆ 2.8 ┆ 5.174883  ┆ 22.176471 ┆ 27.351353  ┆ 17.001588  │\n",
       "│ 13        ┆ 14   ┆ 3.0 ┆ 8.285796  ┆ 26.823529 ┆ 35.109325  ┆ 18.537734  │\n",
       "│ 12        ┆ 26   ┆ 3.0 ┆ 8.285796  ┆ 26.823529 ┆ 35.109325  ┆ 18.537734  │\n",
       "│ 2         ┆ 24   ┆ 2.8 ┆ 5.174883  ┆ 22.176471 ┆ 27.351353  ┆ 17.001588  │\n",
       "│ 10        ┆ 26   ┆ 3.0 ┆ 8.285796  ┆ 26.823529 ┆ 35.109325  ┆ 18.537734  │\n",
       "│ …         ┆ …    ┆ …   ┆ …         ┆ …         ┆ …          ┆ …          │\n",
       "│ 12        ┆ 19   ┆ 2.8 ┆ 5.174883  ┆ 22.176471 ┆ 27.351353  ┆ 17.001588  │\n",
       "│ 9         ┆ 17   ┆ 2.8 ┆ 5.174883  ┆ 22.176471 ┆ 27.351353  ┆ 17.001588  │\n",
       "│ 4         ┆ 24   ┆ 2.8 ┆ 5.174883  ┆ 22.176471 ┆ 27.351353  ┆ 17.001588  │\n",
       "│ 5         ┆ 255  ┆ 4.0 ┆ 77.412531 ┆ 124.2     ┆ 201.612531 ┆ 46.787469  │\n",
       "│ 15        ┆ 35   ┆ 3.0 ┆ 8.285796  ┆ 26.823529 ┆ 35.109325  ┆ 18.537734  │\n",
       "└───────────┴──────┴─────┴───────────┴───────────┴────────────┴────────────┘"
      ]
     },
     "execution_count": 3,
     "metadata": {},
     "output_type": "execute_result"
    }
   ],
   "source": [
    "df_all = pl.DataFrame()\n",
    "for case in [100,280,300,350,400]:\n",
    "    coor = data2df(f'./data/data{case}.extra')\n",
    "    df_cluster = cluster_single_df(coor)\n",
    "    df = pl.from_pandas(df_cluster)\n",
    "    df = df.with_columns(pl.col(\"clusterID\").fill_null(0).cast(pl.Int32),\n",
    "                pl.col(['type',\"atomID\"]).cast(pl.Int32))\n",
    "    print(case)\n",
    "    df = df.filter(pl.col('type') == 5, pl.col('clusterID')>0) \n",
    "    counts = df.group_by('clusterID').agg(pl.col('clusterID').count().alias('size')).sort('size').with_columns(pl.lit(f'{case/100}').alias('kT'))\n",
    "    counts = counts.with_columns(size_std = pl.col('size').std(),\n",
    "                                 size_mean = pl.col('size').mean(),\n",
    "                                 size_upper = (pl.col('size').mean()+pl.col('size').std()),\n",
    "                                 size_lower = (pl.col('size').mean()-pl.col('size').std()))\n",
    "    df_all = pl.concat([df_all, counts])\n",
    "df_all.sample(12)"
   ]
  },
  {
   "cell_type": "code",
   "execution_count": 9,
   "metadata": {},
   "outputs": [
    {
     "data": {
      "text/html": [
       "   <div id=\"F9g5m9\"></div>\n",
       "   <script type=\"text/javascript\" data-lets-plot-script=\"plot\">\n",
       "       (function() {\n",
       "           var plotSpec={\n",
       "\"data\":{\n",
       "\"kT\":[\"2.8\",\"2.8\",\"2.8\",\"2.8\",\"2.8\",\"2.8\",\"2.8\",\"2.8\",\"2.8\",\"2.8\",\"2.8\",\"2.8\",\"2.8\",\"2.8\",\"2.8\",\"2.8\",\"2.8\",\"3.0\",\"3.0\",\"3.0\",\"3.0\",\"3.0\",\"3.0\",\"3.0\",\"3.0\",\"3.0\",\"3.0\",\"3.0\",\"3.0\",\"3.0\",\"3.0\",\"3.0\",\"3.0\",\"3.0\",\"3.5\",\"3.5\",\"3.5\",\"3.5\",\"4.0\",\"4.0\",\"4.0\",\"4.0\",\"4.0\"],\n",
       "\"size_mean\":[22.176470588235293,22.176470588235293,22.176470588235293,22.176470588235293,22.176470588235293,22.176470588235293,22.176470588235293,22.176470588235293,22.176470588235293,22.176470588235293,22.176470588235293,22.176470588235293,22.176470588235293,22.176470588235293,22.176470588235293,22.176470588235293,22.176470588235293,26.823529411764707,26.823529411764707,26.823529411764707,26.823529411764707,26.823529411764707,26.823529411764707,26.823529411764707,26.823529411764707,26.823529411764707,26.823529411764707,26.823529411764707,26.823529411764707,26.823529411764707,26.823529411764707,26.823529411764707,26.823529411764707,26.823529411764707,151.25,151.25,151.25,151.25,124.2,124.2,124.2,124.2,124.2],\n",
       "\"size_upper\":[27.351353366106295,27.351353366106295,27.351353366106295,27.351353366106295,27.351353366106295,27.351353366106295,27.351353366106295,27.351353366106295,27.351353366106295,27.351353366106295,27.351353366106295,27.351353366106295,27.351353366106295,27.351353366106295,27.351353366106295,27.351353366106295,27.351353366106295,35.10932519519468,35.10932519519468,35.10932519519468,35.10932519519468,35.10932519519468,35.10932519519468,35.10932519519468,35.10932519519468,35.10932519519468,35.10932519519468,35.10932519519468,35.10932519519468,35.10932519519468,35.10932519519468,35.10932519519468,35.10932519519468,35.10932519519468,224.14432991209492,224.14432991209492,224.14432991209492,224.14432991209492,201.6125312853158,201.6125312853158,201.6125312853158,201.6125312853158,201.6125312853158],\n",
       "\"size_lower\":[17.001587810364292,17.001587810364292,17.001587810364292,17.001587810364292,17.001587810364292,17.001587810364292,17.001587810364292,17.001587810364292,17.001587810364292,17.001587810364292,17.001587810364292,17.001587810364292,17.001587810364292,17.001587810364292,17.001587810364292,17.001587810364292,17.001587810364292,18.537733628334735,18.537733628334735,18.537733628334735,18.537733628334735,18.537733628334735,18.537733628334735,18.537733628334735,18.537733628334735,18.537733628334735,18.537733628334735,18.537733628334735,18.537733628334735,18.537733628334735,18.537733628334735,18.537733628334735,18.537733628334735,18.537733628334735,78.3556700879051,78.3556700879051,78.3556700879051,78.3556700879051,46.78746871468418,46.78746871468418,46.78746871468418,46.78746871468418,46.78746871468418]\n",
       "},\n",
       "\"mapping\":{\n",
       "\"x\":\"kT\",\n",
       "\"y\":\"size_mean\",\n",
       "\"color\":\"kT\"\n",
       "},\n",
       "\"data_meta\":{\n",
       "},\n",
       "\"theme\":{\n",
       "\"name\":\"classic\"\n",
       "},\n",
       "\"kind\":\"plot\",\n",
       "\"scales\":[],\n",
       "\"layers\":[{\n",
       "\"geom\":\"point\",\n",
       "\"mapping\":{\n",
       "},\n",
       "\"data_meta\":{\n",
       "},\n",
       "\"size\":12.0,\n",
       "\"data\":{\n",
       "}\n",
       "},{\n",
       "\"geom\":\"line\",\n",
       "\"mapping\":{\n",
       "\"x\":\"kT\",\n",
       "\"y\":\"size_mean\"\n",
       "},\n",
       "\"data_meta\":{\n",
       "},\n",
       "\"color\":\"black\",\n",
       "\"data\":{\n",
       "}\n",
       "},{\n",
       "\"geom\":\"errorbar\",\n",
       "\"mapping\":{\n",
       "\"ymin\":\"size_lower\",\n",
       "\"ymax\":\"size_upper\"\n",
       "},\n",
       "\"data_meta\":{\n",
       "},\n",
       "\"width\":0.3,\n",
       "\"data\":{\n",
       "}\n",
       "}],\n",
       "\"metainfo_list\":[]\n",
       "};\n",
       "           var plotContainer = document.getElementById(\"F9g5m9\");\n",
       "           window.letsPlotCall(function() {{\n",
       "               LetsPlot.buildPlotFromProcessedSpecs(plotSpec, -1, -1, plotContainer);\n",
       "           }});\n",
       "       })();\n",
       "   </script>"
      ],
      "text/plain": [
       "<lets_plot.plot.core.PlotSpec at 0x23dc6d3a4b0>"
      ]
     },
     "execution_count": 9,
     "metadata": {},
     "output_type": "execute_result"
    }
   ],
   "source": [
    "(\n",
    "    ggplot(df_all, aes(x='kT', y='size_mean', color='kT')) +\n",
    "    geom_point(size=12)+\n",
    "    geom_line(aes(x='kT',y='size_mean'),color='black')+\n",
    "    geom_errorbar(aes(ymin='size_lower', ymax='size_upper'), width=0.3)+\n",
    "    theme_classic()\n",
    ")"
   ]
  }
 ],
 "metadata": {
  "kernelspec": {
   "display_name": ".venv",
   "language": "python",
   "name": "python3"
  },
  "language_info": {
   "codemirror_mode": {
    "name": "ipython",
    "version": 3
   },
   "file_extension": ".py",
   "mimetype": "text/x-python",
   "name": "python",
   "nbconvert_exporter": "python",
   "pygments_lexer": "ipython3",
   "version": "3.12.4"
  }
 },
 "nbformat": 4,
 "nbformat_minor": 2
}
