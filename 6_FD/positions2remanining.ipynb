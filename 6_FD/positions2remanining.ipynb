{
 "cells": [
  {
   "cell_type": "code",
   "execution_count": 51,
   "metadata": {},
   "outputs": [
    {
     "data": {
      "text/html": [
       "\n",
       "            <div id=\"LETA6M\"></div>\n",
       "            <script type=\"text/javascript\" data-lets-plot-script=\"library\">\n",
       "                if(!window.letsPlotCallQueue) {\n",
       "                    window.letsPlotCallQueue = [];\n",
       "                }; \n",
       "                window.letsPlotCall = function(f) {\n",
       "                    window.letsPlotCallQueue.push(f);\n",
       "                };\n",
       "                (function() {\n",
       "                    var script = document.createElement(\"script\");\n",
       "                    script.type = \"text/javascript\";\n",
       "                    script.src = \"https://cdn.jsdelivr.net/gh/JetBrains/lets-plot@v4.4.0/js-package/distr/lets-plot.min.js\";\n",
       "                    script.onload = function() {\n",
       "                        window.letsPlotCall = function(f) {f();};\n",
       "                        window.letsPlotCallQueue.forEach(function(f) {f();});\n",
       "                        window.letsPlotCallQueue = [];\n",
       "                        \n",
       "                    };\n",
       "                    script.onerror = function(event) {\n",
       "                        window.letsPlotCall = function(f) {};    // noop\n",
       "                        window.letsPlotCallQueue = [];\n",
       "                        var div = document.createElement(\"div\");\n",
       "                        div.style.color = 'darkred';\n",
       "                        div.textContent = 'Error loading Lets-Plot JS';\n",
       "                        document.getElementById(\"LETA6M\").appendChild(div);\n",
       "                    };\n",
       "                    var e = document.getElementById(\"LETA6M\");\n",
       "                    e.appendChild(script);\n",
       "                })()\n",
       "            </script>\n",
       "            "
      ]
     },
     "metadata": {},
     "output_type": "display_data"
    }
   ],
   "source": [
    "import numpy as np\n",
    "import polars as pl\n",
    "from lets_plot import *\n",
    "LetsPlot.setup_html()"
   ]
  },
  {
   "cell_type": "code",
   "execution_count": 52,
   "metadata": {},
   "outputs": [],
   "source": [
    "def make_trailing_zeros(arr:np.ndarray)->np.ndarray:\n",
    "    first_zeros = arr.argmin(axis=1) # first occurences of zeros for each tf (row)\n",
    "    for i,index in enumerate(first_zeros):\n",
    "        arr[i,index:] = 0\n",
    "\n",
    "    return arr"
   ]
  },
  {
   "cell_type": "code",
   "execution_count": 53,
   "metadata": {},
   "outputs": [],
   "source": [
    "def bounds(arr:np.ndarray,trailing_zero:bool=True)->np.ndarray:\n",
    "    t0 = arr[:,0] # get the first column t=0\n",
    "    subbed = np.subtract(arr[:,:].T,t0).T # subtract first column from all columns\n",
    "    linear_distance = np.abs(subbed) # take the absolute value to get distance\n",
    "    linear_distance[np.isnan(linear_distance)] = -1 # convert nan to -1 (if remote)\n",
    "    linear_distance = linear_distance.astype(np.int16) # convert to i16 for tf_indeces are int\n",
    "    status = linear_distance.copy() # steady (0), close(1) or remote(-1)\n",
    "    status[(status>1)] = -1 # convert unbounds to -1\n",
    "    bound = np.zeros_like(status) # from status to bound or not\n",
    "    bound[(np.isin(status,[0,1]))] = 1 # rest will remain unbound (0)\n",
    "    if trailing_zero:\n",
    "        bound = make_trailing_zeros(bound) # once unbound the rest is unbound\n",
    "    return bound"
   ]
  },
  {
   "cell_type": "code",
   "execution_count": 54,
   "metadata": {},
   "outputs": [],
   "source": [
    "def remaining(arr:np.ndarray)->np.ndarray:\n",
    "    arr = bounds(arr)\n",
    "    print(f\"rem1 {arr}\")\n",
    "    counts = np.sum(arr,axis=0) # eaxtract counts of remaining bounds\n",
    "    print(f\"rem2: {counts}\")\n",
    "    return counts"
   ]
  },
  {
   "cell_type": "code",
   "execution_count": 55,
   "metadata": {},
   "outputs": [],
   "source": [
    "def bounds_dataframe(arr_L:np.ndarray,arr_R:np.ndarray)->pl.DataFrame:\n",
    "    n_tf,n_timestep = arr_L.shape \n",
    "    df = pl.DataFrame()\n",
    "\n",
    "    # bound status\n",
    "    bound_all = bounds(arr_L,trailing_zero=False)+bounds(arr_R,trailing_zero=False)\n",
    "    bound_all[bound_all==2] = 1\n",
    "\n",
    "    count_L = remaining(arr_L)\n",
    "    count_R = remaining(arr_R)\n",
    "    count_all = remaining(bound_all)\n",
    "    \n",
    "    df = df.with_columns(\n",
    "        pl.Series(np.arange(1,n_timestep+1)).alias('timestep'),\n",
    "        pl.Series(count_L).alias(\"left\"),\n",
    "        pl.Series(count_R).alias(\"right\"),\n",
    "        pl.Series(count_all).alias(\"all\"),\n",
    "    )\n",
    "\n",
    "    return df"
   ]
  },
  {
   "cell_type": "code",
   "execution_count": 56,
   "metadata": {},
   "outputs": [],
   "source": [
    "def decay_plot(df:pl.DataFrame,until:int=20):\n",
    "\n",
    "    df_melted = df.head(until).melt(id_vars=\"timestep\",value_name='counts',variable_name=\"case\")\n",
    "\n",
    "    p = (\n",
    "        ggplot(df_melted,aes(x='timestep',y='counts',color='case'))\n",
    "        + geom_point(size=7)\n",
    "        + geom_line()\n",
    "        + scale_color_hue()\n",
    "    )\n",
    "    return p"
   ]
  },
  {
   "cell_type": "code",
   "execution_count": 57,
   "metadata": {},
   "outputs": [
    {
     "name": "stdout",
     "output_type": "stream",
     "text": [
      "rem1 [[1 1 1 ... 0 0 0]\n",
      " [1 1 0 ... 0 0 0]\n",
      " [1 0 0 ... 0 0 0]\n",
      " ...\n",
      " [1 1 1 ... 0 0 0]\n",
      " [1 1 1 ... 0 0 0]\n",
      " [1 1 1 ... 0 0 0]]\n",
      "rem2: [409 202 112 ...   0   0   0]\n",
      "rem1 [[1 0 0 ... 0 0 0]\n",
      " [1 1 1 ... 0 0 0]\n",
      " [1 1 1 ... 0 0 0]\n",
      " ...\n",
      " [1 0 0 ... 0 0 0]\n",
      " [1 0 0 ... 0 0 0]\n",
      " [1 0 0 ... 0 0 0]]\n",
      "rem2: [414 192 114 ...   0   0   0]\n",
      "rem1 [[0 0 0 ... 0 0 0]\n",
      " [0 0 0 ... 0 0 0]\n",
      " [0 0 0 ... 0 0 0]\n",
      " ...\n",
      " [0 0 0 ... 0 0 0]\n",
      " [0 0 0 ... 0 0 0]\n",
      " [0 0 0 ... 0 0 0]]\n",
      "rem2: [0 0 0 ... 0 0 0]\n"
     ]
    },
    {
     "name": "stderr",
     "output_type": "stream",
     "text": [
      "C:\\Users\\zafi_\\AppData\\Local\\Temp\\ipykernel_10256\\2562807417.py:3: DeprecationWarning: `DataFrame.melt` is deprecated. Use `unpivot` instead, with `index` instead of `id_vars` and `on` instead of `value_vars`\n",
      "  df_melted = df.head(until).melt(id_vars=\"timestep\",value_name='counts',variable_name=\"case\")\n"
     ]
    },
    {
     "data": {
      "text/html": [
       "   <div id=\"YKoz0s\"></div>\n",
       "   <script type=\"text/javascript\" data-lets-plot-script=\"plot\">\n",
       "       (function() {\n",
       "           var plotSpec={\n",
       "\"data\":{\n",
       "\"timestep\":[1.0,2.0,3.0,4.0,5.0,6.0,7.0,8.0,9.0,10.0,11.0,12.0,13.0,14.0,15.0,1.0,2.0,3.0,4.0,5.0,6.0,7.0,8.0,9.0,10.0,11.0,12.0,13.0,14.0,15.0,1.0,2.0,3.0,4.0,5.0,6.0,7.0,8.0,9.0,10.0,11.0,12.0,13.0,14.0,15.0],\n",
       "\"case\":[\"left\",\"left\",\"left\",\"left\",\"left\",\"left\",\"left\",\"left\",\"left\",\"left\",\"left\",\"left\",\"left\",\"left\",\"left\",\"right\",\"right\",\"right\",\"right\",\"right\",\"right\",\"right\",\"right\",\"right\",\"right\",\"right\",\"right\",\"right\",\"right\",\"right\",\"all\",\"all\",\"all\",\"all\",\"all\",\"all\",\"all\",\"all\",\"all\",\"all\",\"all\",\"all\",\"all\",\"all\",\"all\"],\n",
       "\"counts\":[409.0,202.0,112.0,67.0,42.0,29.0,18.0,11.0,8.0,5.0,5.0,3.0,3.0,2.0,2.0,414.0,192.0,114.0,69.0,48.0,29.0,22.0,18.0,16.0,15.0,11.0,8.0,6.0,4.0,4.0,0.0,0.0,0.0,0.0,0.0,0.0,0.0,0.0,0.0,0.0,0.0,0.0,0.0,0.0,0.0]\n",
       "},\n",
       "\"mapping\":{\n",
       "\"x\":\"timestep\",\n",
       "\"y\":\"counts\",\n",
       "\"color\":\"case\"\n",
       "},\n",
       "\"data_meta\":{\n",
       "\"series_annotations\":[{\n",
       "\"type\":\"int\",\n",
       "\"column\":\"timestep\"\n",
       "},{\n",
       "\"type\":\"str\",\n",
       "\"column\":\"case\"\n",
       "},{\n",
       "\"type\":\"int\",\n",
       "\"column\":\"counts\"\n",
       "}]\n",
       "},\n",
       "\"kind\":\"plot\",\n",
       "\"scales\":[{\n",
       "\"aesthetic\":\"color\",\n",
       "\"scale_mapper_kind\":\"color_hue\"\n",
       "}],\n",
       "\"layers\":[{\n",
       "\"geom\":\"point\",\n",
       "\"mapping\":{\n",
       "},\n",
       "\"data_meta\":{\n",
       "},\n",
       "\"size\":7.0,\n",
       "\"data\":{\n",
       "}\n",
       "},{\n",
       "\"geom\":\"line\",\n",
       "\"mapping\":{\n",
       "},\n",
       "\"data_meta\":{\n",
       "},\n",
       "\"data\":{\n",
       "}\n",
       "}],\n",
       "\"metainfo_list\":[]\n",
       "};\n",
       "           var plotContainer = document.getElementById(\"YKoz0s\");\n",
       "           window.letsPlotCall(function() {{\n",
       "               LetsPlot.buildPlotFromProcessedSpecs(plotSpec, -1, -1, plotContainer);\n",
       "           }});\n",
       "       })();\n",
       "   </script>"
      ],
      "text/plain": [
       "<lets_plot.plot.core.PlotSpec at 0x1d500068d10>"
      ]
     },
     "execution_count": 57,
     "metadata": {},
     "output_type": "execute_result"
    }
   ],
   "source": [
    "# def main():\n",
    "positionz = np.load(\"positions.npz\")\n",
    "L = positionz[\"L\"]\n",
    "R = positionz[\"R\"]\n",
    "df = bounds_dataframe(arr_L=L,arr_R=R)\n",
    "decay_plot(df,until=15)\n"
   ]
  },
  {
   "cell_type": "code",
   "execution_count": null,
   "metadata": {},
   "outputs": [],
   "source": []
  }
 ],
 "metadata": {
  "kernelspec": {
   "display_name": "Python 3",
   "language": "python",
   "name": "python3"
  },
  "language_info": {
   "codemirror_mode": {
    "name": "ipython",
    "version": 3
   },
   "file_extension": ".py",
   "mimetype": "text/x-python",
   "name": "python",
   "nbconvert_exporter": "python",
   "pygments_lexer": "ipython3",
   "version": "3.11.9"
  }
 },
 "nbformat": 4,
 "nbformat_minor": 2
}
