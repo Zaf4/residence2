{
 "cells": [
  {
   "cell_type": "code",
   "execution_count": 1,
   "metadata": {},
   "outputs": [],
   "source": [
    "import numpy as np"
   ]
  },
  {
   "cell_type": "code",
   "execution_count": 2,
   "metadata": {},
   "outputs": [],
   "source": [
    "positionz = np.load(\"positions.npz\")"
   ]
  },
  {
   "cell_type": "code",
   "execution_count": 3,
   "metadata": {},
   "outputs": [
    {
     "data": {
      "text/plain": [
       "['L', 'R']"
      ]
     },
     "execution_count": 3,
     "metadata": {},
     "output_type": "execute_result"
    }
   ],
   "source": [
    "positionz.files"
   ]
  },
  {
   "cell_type": "code",
   "execution_count": 4,
   "metadata": {},
   "outputs": [],
   "source": [
    "L = positionz[\"L\"]\n",
    "R = positionz[\"R\"]"
   ]
  },
  {
   "cell_type": "code",
   "execution_count": 8,
   "metadata": {},
   "outputs": [
    {
     "data": {
      "text/plain": [
       "2"
      ]
     },
     "execution_count": 8,
     "metadata": {},
     "output_type": "execute_result"
    }
   ],
   "source": [
    "L.ndim"
   ]
  },
  {
   "cell_type": "code",
   "execution_count": 9,
   "metadata": {},
   "outputs": [],
   "source": [
    "arr = L"
   ]
  },
  {
   "cell_type": "code",
   "execution_count": 10,
   "metadata": {},
   "outputs": [],
   "source": [
    "t0 = arr[:,0] # get the first column t=0"
   ]
  },
  {
   "cell_type": "code",
   "execution_count": 15,
   "metadata": {},
   "outputs": [],
   "source": [
    "subbed = np.subtract(arr[:,:].T,t0).T # subtract first column from all columns"
   ]
  },
  {
   "cell_type": "code",
   "execution_count": 16,
   "metadata": {},
   "outputs": [
    {
     "data": {
      "text/plain": [
       "array([[ 0.000e+00, -1.000e+00, -1.000e+00, ..., -5.607e+03, -5.608e+03,\n",
       "        -5.608e+03],\n",
       "       [ 0.000e+00, -1.000e+00, -2.000e+00, ..., -3.848e+03, -3.848e+03,\n",
       "        -4.264e+03],\n",
       "       [ 0.000e+00,  1.321e+03, -2.000e+00, ...,  3.424e+03,  1.097e+03,\n",
       "         1.097e+03],\n",
       "       ...,\n",
       "       [ 0.000e+00,  1.000e+00,  1.000e+00, ...,  9.389e+03,  7.510e+03,\n",
       "         9.255e+03],\n",
       "       [ 0.000e+00, -1.000e+00, -1.000e+00, ...,  1.609e+03,  1.609e+03,\n",
       "         8.946e+03],\n",
       "       [ 0.000e+00,  0.000e+00, -1.000e+00, ...,  7.446e+03,        nan,\n",
       "         1.565e+03]])"
      ]
     },
     "execution_count": 16,
     "metadata": {},
     "output_type": "execute_result"
    }
   ],
   "source": [
    "subbed"
   ]
  },
  {
   "cell_type": "code",
   "execution_count": 40,
   "metadata": {},
   "outputs": [],
   "source": [
    "linear_distance = np.abs(subbed) # take the absolute value to get distance"
   ]
  },
  {
   "cell_type": "code",
   "execution_count": 41,
   "metadata": {},
   "outputs": [],
   "source": [
    "linear_distance[np.isnan(linear_distance)] = -1 # convert nan to -1\n",
    "linear_distance = linear_distance.astype(np.int16) # convert to i16 for the id "
   ]
  },
  {
   "cell_type": "code",
   "execution_count": 42,
   "metadata": {},
   "outputs": [
    {
     "data": {
      "text/plain": [
       "array([[   0,    1,    1, ..., 5607, 5608, 5608],\n",
       "       [   0,    1,    2, ..., 3848, 3848, 4264],\n",
       "       [   0, 1321,    2, ..., 3424, 1097, 1097],\n",
       "       ...,\n",
       "       [   0,    1,    1, ..., 9389, 7510, 9255],\n",
       "       [   0,    1,    1, ..., 1609, 1609, 8946],\n",
       "       [   0,    0,    1, ..., 7446,   -1, 1565]], dtype=int16)"
      ]
     },
     "execution_count": 42,
     "metadata": {},
     "output_type": "execute_result"
    }
   ],
   "source": [
    "linear_distance"
   ]
  },
  {
   "cell_type": "code",
   "execution_count": null,
   "metadata": {},
   "outputs": [],
   "source": [
    "status = linear_distance.copy()"
   ]
  },
  {
   "cell_type": "code",
   "execution_count": 44,
   "metadata": {},
   "outputs": [],
   "source": [
    "linear_distance[(linear_distance>1)] = -1 # convert unbounds to -1"
   ]
  },
  {
   "cell_type": "code",
   "execution_count": 45,
   "metadata": {},
   "outputs": [
    {
     "data": {
      "text/plain": [
       "array([[ 0,  1,  1, ..., -1, -1, -1],\n",
       "       [ 0,  1, -1, ..., -1, -1, -1],\n",
       "       [ 0, -1, -1, ..., -1, -1, -1],\n",
       "       ...,\n",
       "       [ 0,  1,  1, ..., -1, -1, -1],\n",
       "       [ 0,  1,  1, ..., -1, -1, -1],\n",
       "       [ 0,  0,  1, ..., -1, -1, -1]], dtype=int16)"
      ]
     },
     "execution_count": 45,
     "metadata": {},
     "output_type": "execute_result"
    }
   ],
   "source": [
    "linear_distance"
   ]
  },
  {
   "cell_type": "code",
   "execution_count": null,
   "metadata": {},
   "outputs": [],
   "source": []
  }
 ],
 "metadata": {
  "kernelspec": {
   "display_name": "Python 3",
   "language": "python",
   "name": "python3"
  },
  "language_info": {
   "codemirror_mode": {
    "name": "ipython",
    "version": 3
   },
   "file_extension": ".py",
   "mimetype": "text/x-python",
   "name": "python",
   "nbconvert_exporter": "python",
   "pygments_lexer": "ipython3",
   "version": "3.11.9"
  }
 },
 "nbformat": 4,
 "nbformat_minor": 2
}
