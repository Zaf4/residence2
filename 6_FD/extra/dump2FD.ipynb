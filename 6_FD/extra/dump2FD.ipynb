{
 "cells": [
  {
   "cell_type": "code",
   "execution_count": 1,
   "metadata": {},
   "outputs": [],
   "source": [
    "import numpy as np\n",
    "from tqdm import tqdm"
   ]
  },
  {
   "cell_type": "code",
   "execution_count": 2,
   "metadata": {},
   "outputs": [],
   "source": [
    "arr = np.load(\"smallx.npy\") #timestep 1001 to 2001\n",
    "n_time, n_atoms, n_dim = arr.shape"
   ]
  },
  {
   "cell_type": "code",
   "execution_count": 3,
   "metadata": {},
   "outputs": [
    {
     "data": {
      "text/plain": [
       "array([2., 2., 2., ..., 3., 5., 3.], dtype=float32)"
      ]
     },
     "execution_count": 3,
     "metadata": {},
     "output_type": "execute_result"
    }
   ],
   "source": [
    "atom_types = arr[0,:,0]\n",
    "atom_types"
   ]
  },
  {
   "cell_type": "code",
   "execution_count": 4,
   "metadata": {},
   "outputs": [],
   "source": [
    "glimpse = arr [0]\n",
    "atom_id = np.arange(n_atoms)+1\n"
   ]
  },
  {
   "cell_type": "code",
   "execution_count": 5,
   "metadata": {},
   "outputs": [
    {
     "data": {
      "text/plain": [
       "12000"
      ]
     },
     "execution_count": 5,
     "metadata": {},
     "output_type": "execute_result"
    }
   ],
   "source": [
    "n_DNA = sum((atom_types == 2) | (atom_types == 1))# number of DNA beads\n",
    "n_DNA"
   ]
  },
  {
   "cell_type": "code",
   "execution_count": 6,
   "metadata": {},
   "outputs": [
    {
     "data": {
      "text/plain": [
       "631"
      ]
     },
     "execution_count": 6,
     "metadata": {},
     "output_type": "execute_result"
    }
   ],
   "source": [
    "n_tf = sum(atom_types == 5)\n",
    "n_tf"
   ]
  },
  {
   "cell_type": "code",
   "execution_count": 7,
   "metadata": {},
   "outputs": [],
   "source": [
    "condtion_L = ((atom_types == 3) & (atom_id % 3 == 1))\n",
    "condtion_H = ((atom_types == 5) & (atom_id % 3 == 2)) # second statement in unnecessary\n",
    "condtion_R = ((atom_types == 3) & (atom_id % 3 == 0))\n"
   ]
  },
  {
   "cell_type": "code",
   "execution_count": 8,
   "metadata": {},
   "outputs": [],
   "source": [
    "polymer_DNA = arr[:,:n_DNA,1:]\n",
    "left_legs = arr[:,condtion_L,1:]\n",
    "right_legs = arr[:,condtion_R,1:]"
   ]
  },
  {
   "cell_type": "code",
   "execution_count": 9,
   "metadata": {},
   "outputs": [
    {
     "data": {
      "text/plain": [
       "array([[[ 48.6666  ,  11.9886  ,  -0.261688],\n",
       "        [  5.20975 , -17.8034  ,   4.36733 ],\n",
       "        [ 69.9737  ,   2.12292 ,  -5.94867 ],\n",
       "        ...,\n",
       "        [-22.1812  ,   2.89288 ,  -9.22692 ],\n",
       "        [-34.8047  , -10.0354  , -14.9116  ],\n",
       "        [-26.9369  ,  -9.04961 ,  22.1474  ]],\n",
       "\n",
       "       [[ 49.7307  ,  13.2222  ,  -1.36022 ],\n",
       "        [  5.45081 , -17.8528  ,   4.35148 ],\n",
       "        [ 70.3373  ,   2.03506 ,  -6.72295 ],\n",
       "        ...,\n",
       "        [-20.9018  ,   4.13637 ,  -8.09471 ],\n",
       "        [-33.4827  , -10.9513  , -14.3501  ],\n",
       "        [-24.2879  , -12.6193  ,  19.4587  ]],\n",
       "\n",
       "       [[ 49.1416  ,  13.214   ,  -1.76017 ],\n",
       "        [  5.39751 , -18.31    ,   4.78848 ],\n",
       "        [ 70.2472  ,   2.97071 ,  -4.93835 ],\n",
       "        ...,\n",
       "        [-20.5273  ,   4.00936 ,  -8.84046 ],\n",
       "        [-32.2858  ,  -9.43555 , -13.4375  ],\n",
       "        [-24.1017  , -13.8589  ,  17.8987  ]],\n",
       "\n",
       "       ...,\n",
       "\n",
       "       [[ 51.6921  ,  12.4928  ,   2.77154 ],\n",
       "        [  7.39572 , -19.9101  ,   5.35446 ],\n",
       "        [ 41.6224  , -13.0751  , -17.4984  ],\n",
       "        ...,\n",
       "        [-27.9812  ,   1.06086 ,  -6.79899 ],\n",
       "        [-46.8763  , -14.6838  ,  -9.78002 ],\n",
       "        [-32.7348  ,  10.7289  ,  -0.201662]],\n",
       "\n",
       "       [[ 52.002   ,  12.3197  ,   1.93773 ],\n",
       "        [  8.31653 , -19.4936  ,   6.29592 ],\n",
       "        [ 42.4407  , -14.2767  , -15.7802  ],\n",
       "        ...,\n",
       "        [-27.6971  ,   0.374422,  -6.72274 ],\n",
       "        [-46.4069  , -13.9077  , -10.1176  ],\n",
       "        [-33.1425  ,  11.2866  ,   0.555279]],\n",
       "\n",
       "       [[ 52.365   ,  12.7902  ,   2.11424 ],\n",
       "        [  8.09441 , -19.1237  ,   6.43037 ],\n",
       "        [ 41.5361  , -13.6464  , -16.345   ],\n",
       "        ...,\n",
       "        [-27.7956  ,   0.954973,  -5.76804 ],\n",
       "        [-46.6903  , -13.3132  , -10.3781  ],\n",
       "        [-31.7426  ,  10.8596  ,   1.35647 ]]], dtype=float32)"
      ]
     },
     "execution_count": 9,
     "metadata": {},
     "output_type": "execute_result"
    }
   ],
   "source": [
    "left_legs"
   ]
  },
  {
   "cell_type": "code",
   "execution_count": 25,
   "metadata": {},
   "outputs": [],
   "source": [
    "def is_bound(arr_DNA:np.ndarray,tf:np.ndarray,threshold:float=0.8) -> np.ndarray:\n",
    "\n",
    "    # tf is a single row \n",
    "    a = np.subtract(arr_DNA,tf) #distance in each (x,y,z) direction\n",
    "    distance = np.linalg.norm(a,axis=1)#euclidian distance\n",
    "\n",
    "    if np.any(np.less(distance,threshold)): # if less than threshold distance\n",
    "        return True\n",
    "    else:\n",
    "        return False"
   ]
  },
  {
   "cell_type": "code",
   "execution_count": 26,
   "metadata": {},
   "outputs": [],
   "source": [
    "def where_bound(arr_DNA:np.ndarray,tf:np.ndarray,threshold:float=0.8)->np.ndarray:\n",
    "\n",
    "    \"\"\"\n",
    "    Return the index of the DNA atom where the given tf is bound.\n",
    "    if tf is not bound to DNA at all, returns np.nan\n",
    "\n",
    "    \"\"\"\n",
    "    n_dna = len(arr_DNA)\n",
    "    index = np.arange(n_dna).astype(np.uint32)\n",
    "    # tf is a single row \n",
    "    a = np.subtract(arr_DNA,tf) #distance in each (x,y,z) direction\n",
    "    distance = np.linalg.norm(a,axis=1)#euclidian distance\n",
    "\n",
    "    if np.any(np.less(distance,threshold)):\n",
    "        return index[np.less(distance,threshold)][0] # only single one\n",
    "    else:\n",
    "        return np.nan"
   ]
  },
  {
   "cell_type": "code",
   "execution_count": 36,
   "metadata": {},
   "outputs": [],
   "source": [
    "def find_positions(arr_DNA:np.ndarray,\n",
    "                   arr_tf:np.ndarray)->np.ndarray:\n",
    "    \n",
    "    positions = np.zeros(len(arr_tf)) \n",
    "    for i, tf in enumerate(arr_tf):\n",
    "        where = where_bound(arr_DNA,tf,threshold=0.9)\n",
    "        positions[i] = where\n",
    "\n",
    "    return positions"
   ]
  },
  {
   "cell_type": "code",
   "execution_count": 37,
   "metadata": {},
   "outputs": [],
   "source": [
    "def find_positions_multistep(arr_DNA_ms:np.ndarray,arr_tf_ms:np.ndarray)->np.ndarray:\n",
    "\n",
    "    n_timestep, n_tf, n_dim = arr_tf_ms.shape\n",
    "\n",
    "    all_positions = np.zeros([n_tf,n_timestep]) # each col will be a timestep for rows (tfs)\n",
    "\n",
    "    for i in range(n_timestep):\n",
    "        all_positions[:,i] = find_positions(arr_DNA_ms[i],arr_tf_ms[i])\n",
    "        print(f\"step: {i+1} out of {n_timestep}\", end='\\r')\n",
    "\n",
    "    return all_positions"
   ]
  },
  {
   "cell_type": "code",
   "execution_count": 38,
   "metadata": {},
   "outputs": [
    {
     "name": "stdout",
     "output_type": "stream",
     "text": [
      "step: 5 out of 5\r"
     ]
    }
   ],
   "source": [
    "positions_L = find_positions_multistep(polymer_DNA[:5],left_legs[:5])\n",
    "positions_R = find_positions_multistep(polymer_DNA[:5],right_legs[:5])"
   ]
  },
  {
   "cell_type": "code",
   "execution_count": 39,
   "metadata": {},
   "outputs": [
    {
     "data": {
      "text/plain": [
       "array([[ 1328.,   246., 11378.,   246.,   247.],\n",
       "       [ 2209.,  2209.,  2209.,  2209.,  8039.],\n",
       "       [10928., 10928., 10927., 11197., 10928.],\n",
       "       ...,\n",
       "       [ 3598.,  3244.,  3246.,  3246.,  3599.],\n",
       "       [ 7098.,  7303.,  7100.,  6437.,    nan],\n",
       "       [ 4332.,  8142.,  4336.,  8141.,  4335.]])"
      ]
     },
     "execution_count": 39,
     "metadata": {},
     "output_type": "execute_result"
    }
   ],
   "source": [
    "positions_L"
   ]
  },
  {
   "cell_type": "code",
   "execution_count": null,
   "metadata": {},
   "outputs": [],
   "source": []
  }
 ],
 "metadata": {
  "kernelspec": {
   "display_name": ".venv",
   "language": "python",
   "name": "python3"
  },
  "language_info": {
   "codemirror_mode": {
    "name": "ipython",
    "version": 3
   },
   "file_extension": ".py",
   "mimetype": "text/x-python",
   "name": "python",
   "nbconvert_exporter": "python",
   "pygments_lexer": "ipython3",
   "version": "3.11.9"
  }
 },
 "nbformat": 4,
 "nbformat_minor": 2
}
