{
 "cells": [
  {
   "cell_type": "code",
   "execution_count": 31,
   "metadata": {},
   "outputs": [
    {
     "data": {
      "text/html": [
       "\n",
       "            <div id=\"5jsreg\"></div>\n",
       "            <script type=\"text/javascript\" data-lets-plot-script=\"library\">\n",
       "                if(!window.letsPlotCallQueue) {\n",
       "                    window.letsPlotCallQueue = [];\n",
       "                }; \n",
       "                window.letsPlotCall = function(f) {\n",
       "                    window.letsPlotCallQueue.push(f);\n",
       "                };\n",
       "                (function() {\n",
       "                    var script = document.createElement(\"script\");\n",
       "                    script.type = \"text/javascript\";\n",
       "                    script.src = \"https://cdn.jsdelivr.net/gh/JetBrains/lets-plot@v4.4.0/js-package/distr/lets-plot.min.js\";\n",
       "                    script.onload = function() {\n",
       "                        window.letsPlotCall = function(f) {f();};\n",
       "                        window.letsPlotCallQueue.forEach(function(f) {f();});\n",
       "                        window.letsPlotCallQueue = [];\n",
       "                        \n",
       "                    };\n",
       "                    script.onerror = function(event) {\n",
       "                        window.letsPlotCall = function(f) {};    // noop\n",
       "                        window.letsPlotCallQueue = [];\n",
       "                        var div = document.createElement(\"div\");\n",
       "                        div.style.color = 'darkred';\n",
       "                        div.textContent = 'Error loading Lets-Plot JS';\n",
       "                        document.getElementById(\"5jsreg\").appendChild(div);\n",
       "                    };\n",
       "                    var e = document.getElementById(\"5jsreg\");\n",
       "                    e.appendChild(script);\n",
       "                })()\n",
       "            </script>\n",
       "            "
      ]
     },
     "metadata": {},
     "output_type": "display_data"
    }
   ],
   "source": [
    "import os\n",
    "import numpy as np\n",
    "import polars as pl\n",
    "from lets_plot import *\n",
    "LetsPlot.setup_html()"
   ]
  },
  {
   "cell_type": "code",
   "execution_count": 50,
   "metadata": {},
   "outputs": [],
   "source": [
    "def decay_plot(df:pl.DataFrame):\n",
    "\n",
    "    p = (\n",
    "        ggplot(df,aes(x='timestep',y='counts',color=as_discrete('um')))\n",
    "        + geom_point(size=4)\n",
    "        + geom_line(size=1.2)\n",
    "        + scale_color_hue()\n",
    "    )\n",
    "    return p"
   ]
  },
  {
   "cell_type": "code",
   "execution_count": 51,
   "metadata": {},
   "outputs": [],
   "source": [
    "df = pl.read_csv(\"merged.csv\")"
   ]
  },
  {
   "cell_type": "code",
   "execution_count": 52,
   "metadata": {},
   "outputs": [
    {
     "data": {
      "text/html": [
       "<div><style>\n",
       ".dataframe > thead > tr,\n",
       ".dataframe > tbody > tr {\n",
       "  text-align: right;\n",
       "  white-space: pre-wrap;\n",
       "}\n",
       "</style>\n",
       "<small>shape: (5, 13)</small><table border=\"1\" class=\"dataframe\"><thead><tr><th>10_left</th><th>10_right</th><th>10_all</th><th>20_left</th><th>20_right</th><th>20_all</th><th>40_left</th><th>40_right</th><th>40_all</th><th>60_left</th><th>60_right</th><th>60_all</th><th>timestep</th></tr><tr><td>i64</td><td>i64</td><td>i64</td><td>i64</td><td>i64</td><td>i64</td><td>i64</td><td>i64</td><td>i64</td><td>i64</td><td>i64</td><td>i64</td><td>i64</td></tr></thead><tbody><tr><td>95</td><td>103</td><td>105</td><td>190</td><td>193</td><td>205</td><td>409</td><td>414</td><td>419</td><td>613</td><td>617</td><td>624</td><td>1</td></tr><tr><td>25</td><td>27</td><td>44</td><td>56</td><td>58</td><td>85</td><td>202</td><td>192</td><td>287</td><td>268</td><td>283</td><td>404</td><td>2</td></tr><tr><td>9</td><td>7</td><td>20</td><td>15</td><td>17</td><td>38</td><td>112</td><td>114</td><td>208</td><td>168</td><td>173</td><td>291</td><td>3</td></tr><tr><td>1</td><td>1</td><td>6</td><td>5</td><td>3</td><td>16</td><td>67</td><td>69</td><td>141</td><td>114</td><td>113</td><td>228</td><td>4</td></tr><tr><td>1</td><td>1</td><td>2</td><td>5</td><td>2</td><td>12</td><td>42</td><td>48</td><td>110</td><td>84</td><td>86</td><td>194</td><td>5</td></tr></tbody></table></div>"
      ],
      "text/plain": [
       "shape: (5, 13)\n",
       "┌─────────┬──────────┬────────┬─────────┬───┬─────────┬──────────┬────────┬──────────┐\n",
       "│ 10_left ┆ 10_right ┆ 10_all ┆ 20_left ┆ … ┆ 60_left ┆ 60_right ┆ 60_all ┆ timestep │\n",
       "│ ---     ┆ ---      ┆ ---    ┆ ---     ┆   ┆ ---     ┆ ---      ┆ ---    ┆ ---      │\n",
       "│ i64     ┆ i64      ┆ i64    ┆ i64     ┆   ┆ i64     ┆ i64      ┆ i64    ┆ i64      │\n",
       "╞═════════╪══════════╪════════╪═════════╪═══╪═════════╪══════════╪════════╪══════════╡\n",
       "│ 95      ┆ 103      ┆ 105    ┆ 190     ┆ … ┆ 613     ┆ 617      ┆ 624    ┆ 1        │\n",
       "│ 25      ┆ 27       ┆ 44     ┆ 56      ┆ … ┆ 268     ┆ 283      ┆ 404    ┆ 2        │\n",
       "│ 9       ┆ 7        ┆ 20     ┆ 15      ┆ … ┆ 168     ┆ 173      ┆ 291    ┆ 3        │\n",
       "│ 1       ┆ 1        ┆ 6      ┆ 5       ┆ … ┆ 114     ┆ 113      ┆ 228    ┆ 4        │\n",
       "│ 1       ┆ 1        ┆ 2      ┆ 5       ┆ … ┆ 84      ┆ 86       ┆ 194    ┆ 5        │\n",
       "└─────────┴──────────┴────────┴─────────┴───┴─────────┴──────────┴────────┴──────────┘"
      ]
     },
     "execution_count": 52,
     "metadata": {},
     "output_type": "execute_result"
    }
   ],
   "source": [
    "df.head()"
   ]
  },
  {
   "cell_type": "code",
   "execution_count": 59,
   "metadata": {},
   "outputs": [],
   "source": [
    "for col in df.columns:\n",
    "    if col != \"timestep\":\n",
    "        df = df.with_columns(\n",
    "            ((pl.col(col)/pl.col(col).max())*100)\n",
    "        ) "
   ]
  },
  {
   "cell_type": "code",
   "execution_count": 66,
   "metadata": {},
   "outputs": [
    {
     "name": "stderr",
     "output_type": "stream",
     "text": [
      "C:\\Users\\zafi_\\AppData\\Local\\Temp\\ipykernel_12504\\932811825.py:1: DeprecationWarning: `DataFrame.melt` is deprecated. Use `unpivot` instead, with `index` instead of `id_vars` and `on` instead of `value_vars`\n",
      "  df_melted = df.head(20).melt(id_vars=\"timestep\",value_name='counts',variable_name=\"case\")\n"
     ]
    },
    {
     "data": {
      "text/html": [
       "<div><style>\n",
       ".dataframe > thead > tr,\n",
       ".dataframe > tbody > tr {\n",
       "  text-align: right;\n",
       "  white-space: pre-wrap;\n",
       "}\n",
       "</style>\n",
       "<small>shape: (5, 3)</small><table border=\"1\" class=\"dataframe\"><thead><tr><th>timestep</th><th>case</th><th>counts</th></tr><tr><td>i64</td><td>str</td><td>f64</td></tr></thead><tbody><tr><td>1</td><td>&quot;10_left&quot;</td><td>100.0</td></tr><tr><td>2</td><td>&quot;10_left&quot;</td><td>26.315789</td></tr><tr><td>3</td><td>&quot;10_left&quot;</td><td>9.473684</td></tr><tr><td>4</td><td>&quot;10_left&quot;</td><td>1.052632</td></tr><tr><td>5</td><td>&quot;10_left&quot;</td><td>1.052632</td></tr></tbody></table></div>"
      ],
      "text/plain": [
       "shape: (5, 3)\n",
       "┌──────────┬─────────┬───────────┐\n",
       "│ timestep ┆ case    ┆ counts    │\n",
       "│ ---      ┆ ---     ┆ ---       │\n",
       "│ i64      ┆ str     ┆ f64       │\n",
       "╞══════════╪═════════╪═══════════╡\n",
       "│ 1        ┆ 10_left ┆ 100.0     │\n",
       "│ 2        ┆ 10_left ┆ 26.315789 │\n",
       "│ 3        ┆ 10_left ┆ 9.473684  │\n",
       "│ 4        ┆ 10_left ┆ 1.052632  │\n",
       "│ 5        ┆ 10_left ┆ 1.052632  │\n",
       "└──────────┴─────────┴───────────┘"
      ]
     },
     "execution_count": 66,
     "metadata": {},
     "output_type": "execute_result"
    }
   ],
   "source": [
    "df_melted = df.head(20).melt(id_vars=\"timestep\",value_name='counts',variable_name=\"case\")\n",
    "df_melted.head()"
   ]
  },
  {
   "cell_type": "code",
   "execution_count": 67,
   "metadata": {},
   "outputs": [],
   "source": [
    "dfm = df_melted.with_columns(\n",
    "    pl.col(\"case\").str.split(\"_\").list.get(0).cast(pl.UInt16).alias(\"um\"),\n",
    "    pl.col(\"case\").str.split(\"_\").list.get(1).alias(\"which\"),\n",
    ")"
   ]
  },
  {
   "cell_type": "code",
   "execution_count": 68,
   "metadata": {},
   "outputs": [
    {
     "data": {
      "text/html": [
       "<div><style>\n",
       ".dataframe > thead > tr,\n",
       ".dataframe > tbody > tr {\n",
       "  text-align: right;\n",
       "  white-space: pre-wrap;\n",
       "}\n",
       "</style>\n",
       "<small>shape: (240, 5)</small><table border=\"1\" class=\"dataframe\"><thead><tr><th>timestep</th><th>case</th><th>counts</th><th>um</th><th>which</th></tr><tr><td>i64</td><td>str</td><td>f64</td><td>u16</td><td>str</td></tr></thead><tbody><tr><td>1</td><td>&quot;10_left&quot;</td><td>100.0</td><td>10</td><td>&quot;left&quot;</td></tr><tr><td>2</td><td>&quot;10_left&quot;</td><td>26.315789</td><td>10</td><td>&quot;left&quot;</td></tr><tr><td>3</td><td>&quot;10_left&quot;</td><td>9.473684</td><td>10</td><td>&quot;left&quot;</td></tr><tr><td>4</td><td>&quot;10_left&quot;</td><td>1.052632</td><td>10</td><td>&quot;left&quot;</td></tr><tr><td>5</td><td>&quot;10_left&quot;</td><td>1.052632</td><td>10</td><td>&quot;left&quot;</td></tr><tr><td>&hellip;</td><td>&hellip;</td><td>&hellip;</td><td>&hellip;</td><td>&hellip;</td></tr><tr><td>16</td><td>&quot;60_all&quot;</td><td>2.24359</td><td>60</td><td>&quot;all&quot;</td></tr><tr><td>17</td><td>&quot;60_all&quot;</td><td>1.762821</td><td>60</td><td>&quot;all&quot;</td></tr><tr><td>18</td><td>&quot;60_all&quot;</td><td>1.762821</td><td>60</td><td>&quot;all&quot;</td></tr><tr><td>19</td><td>&quot;60_all&quot;</td><td>1.121795</td><td>60</td><td>&quot;all&quot;</td></tr><tr><td>20</td><td>&quot;60_all&quot;</td><td>0.961538</td><td>60</td><td>&quot;all&quot;</td></tr></tbody></table></div>"
      ],
      "text/plain": [
       "shape: (240, 5)\n",
       "┌──────────┬─────────┬───────────┬─────┬───────┐\n",
       "│ timestep ┆ case    ┆ counts    ┆ um  ┆ which │\n",
       "│ ---      ┆ ---     ┆ ---       ┆ --- ┆ ---   │\n",
       "│ i64      ┆ str     ┆ f64       ┆ u16 ┆ str   │\n",
       "╞══════════╪═════════╪═══════════╪═════╪═══════╡\n",
       "│ 1        ┆ 10_left ┆ 100.0     ┆ 10  ┆ left  │\n",
       "│ 2        ┆ 10_left ┆ 26.315789 ┆ 10  ┆ left  │\n",
       "│ 3        ┆ 10_left ┆ 9.473684  ┆ 10  ┆ left  │\n",
       "│ 4        ┆ 10_left ┆ 1.052632  ┆ 10  ┆ left  │\n",
       "│ 5        ┆ 10_left ┆ 1.052632  ┆ 10  ┆ left  │\n",
       "│ …        ┆ …       ┆ …         ┆ …   ┆ …     │\n",
       "│ 16       ┆ 60_all  ┆ 2.24359   ┆ 60  ┆ all   │\n",
       "│ 17       ┆ 60_all  ┆ 1.762821  ┆ 60  ┆ all   │\n",
       "│ 18       ┆ 60_all  ┆ 1.762821  ┆ 60  ┆ all   │\n",
       "│ 19       ┆ 60_all  ┆ 1.121795  ┆ 60  ┆ all   │\n",
       "│ 20       ┆ 60_all  ┆ 0.961538  ┆ 60  ┆ all   │\n",
       "└──────────┴─────────┴───────────┴─────┴───────┘"
      ]
     },
     "execution_count": 68,
     "metadata": {},
     "output_type": "execute_result"
    }
   ],
   "source": [
    "dfm"
   ]
  },
  {
   "cell_type": "code",
   "execution_count": 69,
   "metadata": {},
   "outputs": [],
   "source": [
    "dfm_whole = dfm.filter(pl.col(\"which\") == \"all\")"
   ]
  },
  {
   "cell_type": "code",
   "execution_count": 70,
   "metadata": {},
   "outputs": [
    {
     "data": {
      "text/html": [
       "<div><style>\n",
       ".dataframe > thead > tr,\n",
       ".dataframe > tbody > tr {\n",
       "  text-align: right;\n",
       "  white-space: pre-wrap;\n",
       "}\n",
       "</style>\n",
       "<small>shape: (80, 5)</small><table border=\"1\" class=\"dataframe\"><thead><tr><th>timestep</th><th>case</th><th>counts</th><th>um</th><th>which</th></tr><tr><td>i64</td><td>str</td><td>f64</td><td>u16</td><td>str</td></tr></thead><tbody><tr><td>1</td><td>&quot;10_all&quot;</td><td>100.0</td><td>10</td><td>&quot;all&quot;</td></tr><tr><td>2</td><td>&quot;10_all&quot;</td><td>41.904762</td><td>10</td><td>&quot;all&quot;</td></tr><tr><td>3</td><td>&quot;10_all&quot;</td><td>19.047619</td><td>10</td><td>&quot;all&quot;</td></tr><tr><td>4</td><td>&quot;10_all&quot;</td><td>5.714286</td><td>10</td><td>&quot;all&quot;</td></tr><tr><td>5</td><td>&quot;10_all&quot;</td><td>1.904762</td><td>10</td><td>&quot;all&quot;</td></tr><tr><td>&hellip;</td><td>&hellip;</td><td>&hellip;</td><td>&hellip;</td><td>&hellip;</td></tr><tr><td>16</td><td>&quot;60_all&quot;</td><td>2.24359</td><td>60</td><td>&quot;all&quot;</td></tr><tr><td>17</td><td>&quot;60_all&quot;</td><td>1.762821</td><td>60</td><td>&quot;all&quot;</td></tr><tr><td>18</td><td>&quot;60_all&quot;</td><td>1.762821</td><td>60</td><td>&quot;all&quot;</td></tr><tr><td>19</td><td>&quot;60_all&quot;</td><td>1.121795</td><td>60</td><td>&quot;all&quot;</td></tr><tr><td>20</td><td>&quot;60_all&quot;</td><td>0.961538</td><td>60</td><td>&quot;all&quot;</td></tr></tbody></table></div>"
      ],
      "text/plain": [
       "shape: (80, 5)\n",
       "┌──────────┬────────┬───────────┬─────┬───────┐\n",
       "│ timestep ┆ case   ┆ counts    ┆ um  ┆ which │\n",
       "│ ---      ┆ ---    ┆ ---       ┆ --- ┆ ---   │\n",
       "│ i64      ┆ str    ┆ f64       ┆ u16 ┆ str   │\n",
       "╞══════════╪════════╪═══════════╪═════╪═══════╡\n",
       "│ 1        ┆ 10_all ┆ 100.0     ┆ 10  ┆ all   │\n",
       "│ 2        ┆ 10_all ┆ 41.904762 ┆ 10  ┆ all   │\n",
       "│ 3        ┆ 10_all ┆ 19.047619 ┆ 10  ┆ all   │\n",
       "│ 4        ┆ 10_all ┆ 5.714286  ┆ 10  ┆ all   │\n",
       "│ 5        ┆ 10_all ┆ 1.904762  ┆ 10  ┆ all   │\n",
       "│ …        ┆ …      ┆ …         ┆ …   ┆ …     │\n",
       "│ 16       ┆ 60_all ┆ 2.24359   ┆ 60  ┆ all   │\n",
       "│ 17       ┆ 60_all ┆ 1.762821  ┆ 60  ┆ all   │\n",
       "│ 18       ┆ 60_all ┆ 1.762821  ┆ 60  ┆ all   │\n",
       "│ 19       ┆ 60_all ┆ 1.121795  ┆ 60  ┆ all   │\n",
       "│ 20       ┆ 60_all ┆ 0.961538  ┆ 60  ┆ all   │\n",
       "└──────────┴────────┴───────────┴─────┴───────┘"
      ]
     },
     "execution_count": 70,
     "metadata": {},
     "output_type": "execute_result"
    }
   ],
   "source": [
    "dfm_whole"
   ]
  },
  {
   "cell_type": "code",
   "execution_count": 71,
   "metadata": {},
   "outputs": [
    {
     "data": {
      "text/html": [
       "   <div id=\"YRaxio\"></div>\n",
       "   <script type=\"text/javascript\" data-lets-plot-script=\"plot\">\n",
       "       (function() {\n",
       "           var plotSpec={\n",
       "\"data\":{\n",
       "\"timestep\":[1.0,2.0,3.0,4.0,5.0,6.0,7.0,8.0,9.0,10.0,11.0,12.0,13.0,14.0,15.0,16.0,17.0,18.0,19.0,20.0,1.0,2.0,3.0,4.0,5.0,6.0,7.0,8.0,9.0,10.0,11.0,12.0,13.0,14.0,15.0,16.0,17.0,18.0,19.0,20.0,1.0,2.0,3.0,4.0,5.0,6.0,7.0,8.0,9.0,10.0,11.0,12.0,13.0,14.0,15.0,16.0,17.0,18.0,19.0,20.0,1.0,2.0,3.0,4.0,5.0,6.0,7.0,8.0,9.0,10.0,11.0,12.0,13.0,14.0,15.0,16.0,17.0,18.0,19.0,20.0],\n",
       "\"counts\":[100.0,41.90476190476191,19.04761904761905,5.714285714285714,1.9047619047619049,0.0,0.0,0.0,0.0,0.0,0.0,0.0,0.0,0.0,0.0,0.0,0.0,0.0,0.0,0.0,100.0,41.46341463414634,18.536585365853657,7.804878048780488,5.853658536585366,2.926829268292683,0.975609756097561,0.975609756097561,0.4878048780487805,0.4878048780487805,0.4878048780487805,0.0,0.0,0.0,0.0,0.0,0.0,0.0,0.0,0.0,100.0,68.4964200477327,49.64200477326969,33.65155131264916,26.25298329355609,21.002386634844868,18.13842482100239,15.75178997613365,12.887828162291171,11.455847255369928,9.069212410501194,7.637231503579953,6.443914081145586,5.4892601431980905,4.2959427207637235,4.05727923627685,3.1026252983293556,2.6252983293556085,2.3866348448687353,2.1479713603818618,100.0,64.74358974358975,46.63461538461539,36.53846153846153,31.08974358974359,24.358974358974358,19.070512820512818,14.262820512820513,10.096153846153847,7.6923076923076925,6.089743589743589,5.608974358974359,3.5256410256410255,3.205128205128205,2.4038461538461537,2.2435897435897436,1.7628205128205128,1.7628205128205128,1.1217948717948718,0.9615384615384616],\n",
       "\"um\":[10.0,10.0,10.0,10.0,10.0,10.0,10.0,10.0,10.0,10.0,10.0,10.0,10.0,10.0,10.0,10.0,10.0,10.0,10.0,10.0,20.0,20.0,20.0,20.0,20.0,20.0,20.0,20.0,20.0,20.0,20.0,20.0,20.0,20.0,20.0,20.0,20.0,20.0,20.0,20.0,40.0,40.0,40.0,40.0,40.0,40.0,40.0,40.0,40.0,40.0,40.0,40.0,40.0,40.0,40.0,40.0,40.0,40.0,40.0,40.0,60.0,60.0,60.0,60.0,60.0,60.0,60.0,60.0,60.0,60.0,60.0,60.0,60.0,60.0,60.0,60.0,60.0,60.0,60.0,60.0]\n",
       "},\n",
       "\"mapping\":{\n",
       "\"x\":\"timestep\",\n",
       "\"y\":\"counts\",\n",
       "\"color\":\"um\"\n",
       "},\n",
       "\"data_meta\":{\n",
       "\"series_annotations\":[{\n",
       "\"type\":\"int\",\n",
       "\"column\":\"um\"\n",
       "},{\n",
       "\"type\":\"int\",\n",
       "\"column\":\"timestep\"\n",
       "},{\n",
       "\"type\":\"str\",\n",
       "\"column\":\"case\"\n",
       "},{\n",
       "\"type\":\"float\",\n",
       "\"column\":\"counts\"\n",
       "},{\n",
       "\"type\":\"str\",\n",
       "\"column\":\"which\"\n",
       "}],\n",
       "\"mapping_annotations\":[{\n",
       "\"parameters\":{\n",
       "\"label\":\"um\"\n",
       "},\n",
       "\"aes\":\"color\",\n",
       "\"annotation\":\"as_discrete\"\n",
       "}]\n",
       "},\n",
       "\"kind\":\"plot\",\n",
       "\"scales\":[{\n",
       "\"aesthetic\":\"color\",\n",
       "\"scale_mapper_kind\":\"color_hue\"\n",
       "}],\n",
       "\"layers\":[{\n",
       "\"geom\":\"point\",\n",
       "\"mapping\":{\n",
       "},\n",
       "\"data_meta\":{\n",
       "},\n",
       "\"size\":4.0,\n",
       "\"data\":{\n",
       "}\n",
       "},{\n",
       "\"geom\":\"line\",\n",
       "\"mapping\":{\n",
       "},\n",
       "\"data_meta\":{\n",
       "},\n",
       "\"size\":1.2,\n",
       "\"data\":{\n",
       "}\n",
       "}],\n",
       "\"metainfo_list\":[]\n",
       "};\n",
       "           var plotContainer = document.getElementById(\"YRaxio\");\n",
       "           window.letsPlotCall(function() {{\n",
       "               LetsPlot.buildPlotFromProcessedSpecs(plotSpec, -1, -1, plotContainer);\n",
       "           }});\n",
       "       })();\n",
       "   </script>"
      ],
      "text/plain": [
       "<lets_plot.plot.core.PlotSpec at 0x1bfb67bc790>"
      ]
     },
     "execution_count": 71,
     "metadata": {},
     "output_type": "execute_result"
    }
   ],
   "source": [
    "decay_plot(dfm_whole)"
   ]
  },
  {
   "cell_type": "code",
   "execution_count": null,
   "metadata": {},
   "outputs": [],
   "source": []
  },
  {
   "cell_type": "code",
   "execution_count": null,
   "metadata": {},
   "outputs": [],
   "source": []
  }
 ],
 "metadata": {
  "kernelspec": {
   "display_name": ".venv",
   "language": "python",
   "name": "python3"
  },
  "language_info": {
   "codemirror_mode": {
    "name": "ipython",
    "version": 3
   },
   "file_extension": ".py",
   "mimetype": "text/x-python",
   "name": "python",
   "nbconvert_exporter": "python",
   "pygments_lexer": "ipython3",
   "version": "3.11.9"
  }
 },
 "nbformat": 4,
 "nbformat_minor": 2
}
